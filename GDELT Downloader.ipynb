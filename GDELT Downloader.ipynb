{
 "cells": [
  {
   "cell_type": "code",
   "execution_count": 10,
   "metadata": {},
   "outputs": [],
   "source": [
    "import gdelt\n",
    "import pandas as pd\n",
    "import numpy as np\n",
    "import platform\n",
    "import multiprocessing\n",
    "import datetime\n",
    "import calendar"
   ]
  },
  {
   "cell_type": "code",
   "execution_count": 11,
   "metadata": {},
   "outputs": [],
   "source": [
    "def start_end(begin_year = 2018, end_year = 2019, current_month = 11):\n",
    "    start_date = []\n",
    "    end_date = []\n",
    "    for a in range(begin_year, end_year+1):\n",
    "        for b in range(1,13):\n",
    "            end_day = calendar.monthrange(a,b)[1]\n",
    "            if b >= 10:\n",
    "                start_date.append(str(a) + ' ' + str(b) + ' 01')\n",
    "                end_date.append(str(a) + ' ' + str(b) + ' ' + str(end_day))              \n",
    "            else:\n",
    "                start_date.append(str(a) + ' 0' + str(b) + ' 01')\n",
    "                end_date.append(str(a) + ' 0' + str(b) + ' ' + str(end_day))\n",
    "\n",
    "    month_adj = current_month - 13 # adjusts to pull up to last month\n",
    "    start_date = start_date[8:month_adj]\n",
    "    end_date = end_date[8:month_adj]\n",
    "\n",
    "    if begin_year == 2015: # Start of GDELT2 Data base\n",
    "        start_date = start_date[2:]\n",
    "        end_date = end_date[2:]\n",
    "    return(start_date, end_date)"
   ]
  },
  {
   "cell_type": "code",
   "execution_count": 12,
   "metadata": {},
   "outputs": [],
   "source": [
    "def create_file(name = 'East_Afr ', begin_year = 2018, end_year = 2019, current_month = 11):\n",
    "    gd2 = gdelt.gdelt(version=2)\n",
    "    start_date, end_date = start_end(begin_year, end_year, current_month)\n",
    "    df1 = pd.DataFrame()\n",
    "    for (i,j) in zip(start_date,end_date):\n",
    "        df1 = pd.DataFrame()\n",
    "        df = gd2.Search([i,j], table = 'events', coverage=True)\n",
    "        df2 = df[(df.Actor1CountryCode == 'SSD') | (df.Actor2CountryCode == 'SSD')  |\n",
    "                (df.Actor1CountryCode == 'CAF') | (df.Actor2CountryCode == 'CAF')  |\n",
    "                (df.Actor1CountryCode == 'COD') | (df.Actor2CountryCode == 'COD')  |\n",
    "                (df.Actor1CountryCode == 'ETH') | (df.Actor2CountryCode == 'ETH')]\n",
    "        df1 = df1.append(df2)\n",
    "        df1.to_csv(name + i + '.csv')\n",
    "    return(df1)"
   ]
  },
  {
   "cell_type": "code",
   "execution_count": 13,
   "metadata": {},
   "outputs": [
    {
     "name": "stderr",
     "output_type": "stream",
     "text": [
      "C:\\Users\\ssq10\\Anaconda3\\lib\\site-packages\\gdelt\\dateFuncs.py:241: UserWarning: This query will download 2688 files, and likely exhaust your memory with possibly 10s of GBs of data in this single query.Hit Ctr-C to kill this query if you do not want to continue.\n",
      "  warnings.warn(warnText)\n"
     ]
    }
   ],
   "source": [
    "df = create_file()"
   ]
  },
  {
   "cell_type": "code",
   "execution_count": null,
   "metadata": {},
   "outputs": [],
   "source": []
  }
 ],
 "metadata": {
  "kernelspec": {
   "display_name": "Python 3",
   "language": "python",
   "name": "python3"
  },
  "language_info": {
   "codemirror_mode": {
    "name": "ipython",
    "version": 3
   },
   "file_extension": ".py",
   "mimetype": "text/x-python",
   "name": "python",
   "nbconvert_exporter": "python",
   "pygments_lexer": "ipython3",
   "version": "3.7.4"
  }
 },
 "nbformat": 4,
 "nbformat_minor": 2
}
