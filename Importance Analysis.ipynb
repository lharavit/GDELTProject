{
 "cells": [
  {
   "cell_type": "code",
   "execution_count": 1,
   "metadata": {},
   "outputs": [],
   "source": [
    "import pandas as pd\n",
    "import numpy as np\n",
    "import matplotlib.pyplot as plt\n",
    "import scipy.stats as st\n",
    "import statsmodels as sm\n",
    "import warnings"
   ]
  },
  {
   "cell_type": "code",
   "execution_count": 2,
   "metadata": {},
   "outputs": [],
   "source": [
    "from sklearn.model_selection import KFold\n",
    "from sklearn.model_selection import cross_val_score\n",
    "from sklearn.preprocessing import MinMaxScaler, StandardScaler\n",
    "from sklearn.metrics import brier_score_loss, mean_squared_error\n",
    "from sklearn.decomposition import PCA"
   ]
  },
  {
   "cell_type": "code",
   "execution_count": 3,
   "metadata": {},
   "outputs": [],
   "source": [
    "from sklearn.linear_model import LinearRegression, BayesianRidge\n",
    "from sklearn.linear_model import Ridge, RidgeCV\n",
    "from sklearn.linear_model import Lasso, LassoCV\n",
    "from sklearn.ensemble import RandomForestRegressor, AdaBoostRegressor\n",
    "from xgboost import XGBRegressor"
   ]
  },
  {
   "cell_type": "code",
   "execution_count": 4,
   "metadata": {},
   "outputs": [],
   "source": [
    "from sklearn.feature_selection import RFECV"
   ]
  },
  {
   "cell_type": "code",
   "execution_count": 5,
   "metadata": {},
   "outputs": [
    {
     "name": "stderr",
     "output_type": "stream",
     "text": [
      "C:\\Users\\ssq10\\Anaconda3\\lib\\site-packages\\ipykernel_launcher.py:7: SettingWithCopyWarning: \n",
      "A value is trying to be set on a copy of a slice from a DataFrame\n",
      "\n",
      "See the caveats in the documentation: http://pandas.pydata.org/pandas-docs/stable/user_guide/indexing.html#returning-a-view-versus-a-copy\n",
      "  import sys\n",
      "C:\\Users\\ssq10\\Anaconda3\\lib\\site-packages\\ipykernel_launcher.py:8: SettingWithCopyWarning: \n",
      "A value is trying to be set on a copy of a slice from a DataFrame\n",
      "\n",
      "See the caveats in the documentation: http://pandas.pydata.org/pandas-docs/stable/user_guide/indexing.html#returning-a-view-versus-a-copy\n",
      "  \n",
      "C:\\Users\\ssq10\\Anaconda3\\lib\\site-packages\\ipykernel_launcher.py:9: SettingWithCopyWarning: \n",
      "A value is trying to be set on a copy of a slice from a DataFrame\n",
      "\n",
      "See the caveats in the documentation: http://pandas.pydata.org/pandas-docs/stable/user_guide/indexing.html#returning-a-view-versus-a-copy\n",
      "  if __name__ == '__main__':\n"
     ]
    }
   ],
   "source": [
    "df = pd.read_csv('battle_data.csv')\n",
    "df2 = df.drop(columns = ['Year/Month', 'Unnamed: 0'])\n",
    "df3 = pd.get_dummies(df2, columns = ['Country_Code', 'month'])\n",
    "df3['lag_fatal_1'] = df3['fatalities'].shift(4) # Add three month lag - Found in Tuning Notebook\n",
    "df3['lag_fatal_2'] = df3['fatalities'].shift(8) # Add three month lag - Found in Tuning Notebook\n",
    "df3['lag_fatal_3'] = df3['fatalities'].shift(12) # Add three month lag - Found in Tuning Notebook\n",
    "df3.lag_fatal_1[0:4] = [68,0,15,47] # Add missing values (33,0,97,172,52,0,6,73,) <-- Add to front for more months\n",
    "df3.lag_fatal_2[0:8] = [52,0,6,73,68,0,15,47]\n",
    "df3.lag_fatal_3[0:12] = [33,0,97,172,52,0,6,73,68,0,15,47]\n",
    "\n",
    "X = df3.drop(columns = 'fatalities')\n",
    "y = df3.fatalities\n",
    "#X_train, X_test, y_train, y_test = train_test_split(X,y,test_size=.1, random_state=0)\n",
    "X_train = X[:-60]\n",
    "X_test = X[-60:]\n",
    "y_train = y[:-60]\n",
    "y_test = y[-60:]\n",
    "\n",
    "X_pred = X[-60:-56]\n",
    "y_pred = y[-60:-56]"
   ]
  },
  {
   "cell_type": "code",
   "execution_count": 6,
   "metadata": {},
   "outputs": [],
   "source": [
    "scaler = StandardScaler()\n",
    "X_train = scaler.fit_transform(X_train)\n",
    "X_test = scaler.transform(X_test)\n",
    "X_pred = scaler.transform(X_pred)\n",
    "X2 = scaler.fit_transform(X)"
   ]
  },
  {
   "cell_type": "code",
   "execution_count": 7,
   "metadata": {},
   "outputs": [
    {
     "data": {
      "text/plain": [
       "BayesianRidge(alpha_1=0.01, alpha_2=100, compute_score=False, copy_X=True,\n",
       "              fit_intercept=True, lambda_1=1e-06, lambda_2=1e-06, n_iter=300,\n",
       "              normalize=False, tol=0.001, verbose=False)"
      ]
     },
     "execution_count": 7,
     "metadata": {},
     "output_type": "execute_result"
    }
   ],
   "source": [
    "NB = BayesianRidge(alpha_1=.01,alpha_2=100)\n",
    "NB.fit(X_train,y_train)"
   ]
  },
  {
   "cell_type": "code",
   "execution_count": 8,
   "metadata": {},
   "outputs": [
    {
     "data": {
      "text/plain": [
       "4186.2641271781395"
      ]
     },
     "execution_count": 8,
     "metadata": {},
     "output_type": "execute_result"
    }
   ],
   "source": [
    "pred = NB.predict(X_test)\n",
    "mean_squared_error(y_test,pred)"
   ]
  },
  {
   "cell_type": "code",
   "execution_count": 9,
   "metadata": {},
   "outputs": [],
   "source": [
    "import_df = pd.DataFrame({'NB Coefs':NB.coef_},index = X.columns)\n",
    "coef_df = import_df.sort_values('NB Coefs', ascending=False)"
   ]
  },
  {
   "cell_type": "code",
   "execution_count": 10,
   "metadata": {},
   "outputs": [
    {
     "data": {
      "image/png": "[encoded data removed]",
      "text/plain": [
       "<Figure size 432x288 with 1 Axes>"
      ]
     },
     "metadata": {
      "needs_background": "light"
     },
     "output_type": "display_data"
    }
   ],
   "source": [
    "coef_df.plot.barh(color='r').invert_yaxis()\n",
    "plt.xlabel('Variable Importance')\n",
    "plt.gca().legend_ = None\n",
    "plt.grid()"
   ]
  },
  {
   "cell_type": "code",
   "execution_count": 11,
   "metadata": {},
   "outputs": [
    {
     "data": {
      "text/html": [
       "<div>\n",
       "<style scoped>\n",
       "    .dataframe tbody tr th:only-of-type {\n",
       "        vertical-align: middle;\n",
       "    }\n",
       "\n",
       "    .dataframe tbody tr th {\n",
       "        vertical-align: top;\n",
       "    }\n",
       "\n",
       "    .dataframe thead th {\n",
       "        text-align: right;\n",
       "    }\n",
       "</style>\n",
       "<table border=\"1\" class=\"dataframe\">\n",
       "  <thead>\n",
       "    <tr style=\"text-align: right;\">\n",
       "      <th></th>\n",
       "      <th>NB Coefs</th>\n",
       "    </tr>\n",
       "  </thead>\n",
       "  <tbody>\n",
       "    <tr>\n",
       "      <td>N-I Degree</td>\n",
       "      <td>-4.156435</td>\n",
       "    </tr>\n",
       "    <tr>\n",
       "      <td>3</td>\n",
       "      <td>-4.834141</td>\n",
       "    </tr>\n",
       "    <tr>\n",
       "      <td>17</td>\n",
       "      <td>-5.144866</td>\n",
       "    </tr>\n",
       "    <tr>\n",
       "      <td>Country_Code_ETH</td>\n",
       "      <td>-5.404967</td>\n",
       "    </tr>\n",
       "    <tr>\n",
       "      <td>5</td>\n",
       "      <td>-6.010399</td>\n",
       "    </tr>\n",
       "    <tr>\n",
       "      <td>Country_Code_CAF</td>\n",
       "      <td>-9.252801</td>\n",
       "    </tr>\n",
       "  </tbody>\n",
       "</table>\n",
       "</div>"
      ],
      "text/plain": [
       "                  NB Coefs\n",
       "N-I Degree       -4.156435\n",
       "3                -4.834141\n",
       "17               -5.144866\n",
       "Country_Code_ETH -5.404967\n",
       "5                -6.010399\n",
       "Country_Code_CAF -9.252801"
      ]
     },
     "execution_count": 11,
     "metadata": {},
     "output_type": "execute_result"
    }
   ],
   "source": [
    "coef_df[-6:]"
   ]
  },
  {
   "cell_type": "code",
   "execution_count": 12,
   "metadata": {},
   "outputs": [
    {
     "data": {
      "text/plain": [
       "Ridge(alpha=24.77, copy_X=True, fit_intercept=True, max_iter=None,\n",
       "      normalize=False, random_state=0, solver='auto', tol=0.001)"
      ]
     },
     "execution_count": 12,
     "metadata": {},
     "output_type": "execute_result"
    }
   ],
   "source": [
    "RR = Ridge(alpha=24.77,random_state=0)\n",
    "RR.fit(X_train,y_train)"
   ]
  },
  {
   "cell_type": "code",
   "execution_count": 13,
   "metadata": {},
   "outputs": [
    {
     "data": {
      "text/plain": [
       "4902.0457433908305"
      ]
     },
     "execution_count": 13,
     "metadata": {},
     "output_type": "execute_result"
    }
   ],
   "source": [
    "pred = RR.predict(X_test)\n",
    "mean_squared_error(y_test,pred)"
   ]
  },
  {
   "cell_type": "code",
   "execution_count": 14,
   "metadata": {},
   "outputs": [],
   "source": [
    "import_df = pd.DataFrame({'RR Coefs':RR.coef_},index = X.columns)\n",
    "coef_df['RR Coefs'] = import_df.sort_values('RR Coefs', ascending=False)"
   ]
  },
  {
   "cell_type": "code",
   "execution_count": 15,
   "metadata": {},
   "outputs": [
    {
     "data": {
      "image/png": "[encoded data removed]",
      "text/plain": [
       "<Figure size 432x288 with 1 Axes>"
      ]
     },
     "metadata": {
      "needs_background": "light"
     },
     "output_type": "display_data"
    }
   ],
   "source": [
    "coef_df.plot.barh(color='r').invert_yaxis()\n",
    "plt.xlabel('Variable Importance')\n",
    "plt.gca().legend_ = None\n",
    "plt.grid()"
   ]
  },
  {
   "cell_type": "code",
   "execution_count": null,
   "metadata": {},
   "outputs": [],
   "source": []
  },
  {
   "cell_type": "code",
   "execution_count": 16,
   "metadata": {},
   "outputs": [
    {
     "data": {
      "text/plain": [
       "Lasso(alpha=8.11, copy_X=True, fit_intercept=True, max_iter=1000,\n",
       "      normalize=False, positive=False, precompute=False, random_state=0,\n",
       "      selection='cyclic', tol=0.0001, warm_start=False)"
      ]
     },
     "execution_count": 16,
     "metadata": {},
     "output_type": "execute_result"
    }
   ],
   "source": [
    "Lasso = Lasso(alpha=8.11,random_state=0)\n",
    "Lasso.fit(X_train,y_train)"
   ]
  },
  {
   "cell_type": "code",
   "execution_count": 17,
   "metadata": {},
   "outputs": [
    {
     "data": {
      "text/plain": [
       "5942.024414166011"
      ]
     },
     "execution_count": 17,
     "metadata": {},
     "output_type": "execute_result"
    }
   ],
   "source": [
    "pred = Lasso.predict(X_test)\n",
    "mean_squared_error(y_test,pred)"
   ]
  },
  {
   "cell_type": "code",
   "execution_count": 18,
   "metadata": {},
   "outputs": [],
   "source": [
    "import_df = pd.DataFrame({'RR Coefs':Lasso.coef_},index = X.columns)\n",
    "coef_df['Lasso Coefs'] = import_df.sort_values('RR Coefs', ascending=False)"
   ]
  },
  {
   "cell_type": "code",
   "execution_count": 19,
   "metadata": {},
   "outputs": [
    {
     "data": {
      "image/png": "[encoded data removed]",
      "text/plain": [
       "<Figure size 432x288 with 1 Axes>"
      ]
     },
     "metadata": {
      "needs_background": "light"
     },
     "output_type": "display_data"
    }
   ],
   "source": [
    "coef_df.plot.barh(color='r').invert_yaxis()\n",
    "plt.xlabel('Variable Importance')\n",
    "plt.gca().legend_ = None\n",
    "plt.grid()"
   ]
  },
  {
   "cell_type": "code",
   "execution_count": 20,
   "metadata": {},
   "outputs": [
    {
     "data": {
      "text/plain": [
       "RandomForestRegressor(bootstrap=True, criterion='mse', max_depth=6,\n",
       "                      max_features=10, max_leaf_nodes=None,\n",
       "                      min_impurity_decrease=0.0, min_impurity_split=None,\n",
       "                      min_samples_leaf=1, min_samples_split=2,\n",
       "                      min_weight_fraction_leaf=0.0, n_estimators=80,\n",
       "                      n_jobs=None, oob_score=False, random_state=0, verbose=0,\n",
       "                      warm_start=False)"
      ]
     },
     "execution_count": 20,
     "metadata": {},
     "output_type": "execute_result"
    }
   ],
   "source": [
    "RF = RandomForestRegressor(n_estimators = 80,max_features = 10, max_depth = 6,random_state=0)\n",
    "RF.fit(X_train,y_train)"
   ]
  },
  {
   "cell_type": "code",
   "execution_count": 21,
   "metadata": {},
   "outputs": [
    {
     "data": {
      "text/plain": [
       "5578.0698475707495"
      ]
     },
     "execution_count": 21,
     "metadata": {},
     "output_type": "execute_result"
    }
   ],
   "source": [
    "pred = RF.predict(X_test)\n",
    "mean_squared_error(y_test,pred)"
   ]
  },
  {
   "cell_type": "code",
   "execution_count": 22,
   "metadata": {},
   "outputs": [
    {
     "data": {
      "text/plain": [
       "6908.264195419394"
      ]
     },
     "execution_count": 22,
     "metadata": {},
     "output_type": "execute_result"
    }
   ],
   "source": [
    "mean_squared_error(y_test,[y_train.mean()]*len(y_test))"
   ]
  },
  {
   "cell_type": "code",
   "execution_count": 23,
   "metadata": {
    "scrolled": false
   },
   "outputs": [],
   "source": [
    "Importance = pd.DataFrame({'RF Import':RF.feature_importances_*100},\n",
    "                         index = X.columns)\n",
    "Import_df =Importance.sort_values('RF Import', ascending=False)[:5] # Display Top 15"
   ]
  },
  {
   "cell_type": "code",
   "execution_count": 24,
   "metadata": {},
   "outputs": [
    {
     "data": {
      "image/png": "[encoded data removed]",
      "text/plain": [
       "<Figure size 432x288 with 1 Axes>"
      ]
     },
     "metadata": {
      "needs_background": "light"
     },
     "output_type": "display_data"
    }
   ],
   "source": [
    "Import_df.plot.barh(color='r').invert_yaxis()\n",
    "plt.xlabel('Variable Importance')\n",
    "plt.gca().legend_ = None\n",
    "plt.grid()"
   ]
  },
  {
   "cell_type": "code",
   "execution_count": 25,
   "metadata": {},
   "outputs": [
    {
     "data": {
      "text/plain": [
       "AdaBoostRegressor(base_estimator=None, learning_rate=0.05, loss='linear',\n",
       "                  n_estimators=100, random_state=0)"
      ]
     },
     "execution_count": 25,
     "metadata": {},
     "output_type": "execute_result"
    }
   ],
   "source": [
    "AB = AdaBoostRegressor(n_estimators=100, learning_rate=.05,random_state=0)\n",
    "AB.fit(X_train,y_train)"
   ]
  },
  {
   "cell_type": "code",
   "execution_count": 26,
   "metadata": {},
   "outputs": [
    {
     "data": {
      "text/plain": [
       "7291.973467380044"
      ]
     },
     "execution_count": 26,
     "metadata": {},
     "output_type": "execute_result"
    }
   ],
   "source": [
    "pred = AB.predict(X_test)\n",
    "mean_squared_error(y_test,pred)"
   ]
  },
  {
   "cell_type": "code",
   "execution_count": 27,
   "metadata": {},
   "outputs": [
    {
     "data": {
      "text/plain": [
       "6908.264195419394"
      ]
     },
     "execution_count": 27,
     "metadata": {},
     "output_type": "execute_result"
    }
   ],
   "source": [
    "mean_squared_error(y_test,[y_train.mean()]*len(y_test))"
   ]
  },
  {
   "cell_type": "code",
   "execution_count": 28,
   "metadata": {
    "scrolled": false
   },
   "outputs": [],
   "source": [
    "Importance = pd.DataFrame({'AB Import':AB.feature_importances_*100},\n",
    "                         index = X.columns)\n",
    "Import_df['Ab Import'] =Importance.sort_values('AB Import', ascending=False)[:5] # Display Top 10"
   ]
  },
  {
   "cell_type": "code",
   "execution_count": 29,
   "metadata": {},
   "outputs": [
    {
     "data": {
      "image/png": "[encoded data removed]",
      "text/plain": [
       "<Figure size 432x288 with 1 Axes>"
      ]
     },
     "metadata": {
      "needs_background": "light"
     },
     "output_type": "display_data"
    }
   ],
   "source": [
    "Import_df.plot.barh(color='r').invert_yaxis()\n",
    "plt.xlabel('Variable Importance')\n",
    "plt.gca().legend_ = None\n",
    "plt.grid()"
   ]
  },
  {
   "cell_type": "code",
   "execution_count": null,
   "metadata": {},
   "outputs": [],
   "source": []
  },
  {
   "cell_type": "code",
   "execution_count": 30,
   "metadata": {},
   "outputs": [
    {
     "name": "stderr",
     "output_type": "stream",
     "text": [
      "C:\\Users\\ssq10\\Anaconda3\\lib\\site-packages\\xgboost\\core.py:587: FutureWarning: Series.base is deprecated and will be removed in a future version\n",
      "  if getattr(data, 'base', None) is not None and \\\n",
      "C:\\Users\\ssq10\\Anaconda3\\lib\\site-packages\\xgboost\\core.py:588: FutureWarning: Series.base is deprecated and will be removed in a future version\n",
      "  data.base is not None and isinstance(data, np.ndarray) \\\n"
     ]
    },
    {
     "data": {
      "text/plain": [
       "XGBRegressor(base_score=0.5, booster='gbtree', colsample_bylevel=1,\n",
       "             colsample_bynode=1, colsample_bytree=1, gamma=0,\n",
       "             importance_type='gain', learning_rate=0.06, max_delta_step=0,\n",
       "             max_depth=3, min_child_weight=1, missing=None, n_estimators=30,\n",
       "             n_jobs=1, nthread=None, objective='reg:squarederror',\n",
       "             random_state=0, reg_alpha=0, reg_lambda=1, scale_pos_weight=1,\n",
       "             seed=None, silent=None, subsample=1, verbosity=1)"
      ]
     },
     "execution_count": 30,
     "metadata": {},
     "output_type": "execute_result"
    }
   ],
   "source": [
    "XGB = XGBRegressor(n_estimators=30, learning_rate=.06,random_state=0,objective ='reg:squarederror')\n",
    "XGB.fit(X_train,y_train)"
   ]
  },
  {
   "cell_type": "code",
   "execution_count": 31,
   "metadata": {},
   "outputs": [
    {
     "data": {
      "text/plain": [
       "7262.067818266875"
      ]
     },
     "execution_count": 31,
     "metadata": {},
     "output_type": "execute_result"
    }
   ],
   "source": [
    "pred = XGB.predict(X_test)\n",
    "mean_squared_error(y_test,pred)"
   ]
  },
  {
   "cell_type": "code",
   "execution_count": 32,
   "metadata": {},
   "outputs": [
    {
     "data": {
      "text/plain": [
       "6908.264195419394"
      ]
     },
     "execution_count": 32,
     "metadata": {},
     "output_type": "execute_result"
    }
   ],
   "source": [
    "mean_squared_error(y_test,[y_train.mean()]*len(y_test))"
   ]
  },
  {
   "cell_type": "code",
   "execution_count": 33,
   "metadata": {
    "scrolled": false
   },
   "outputs": [],
   "source": [
    "Importance = pd.DataFrame({'XGB Import':XGB.feature_importances_*100},\n",
    "                         index = X.columns)\n",
    "Import_df['XGB Import']=Importance.sort_values('XGB Import', ascending=False)[:5] # Display Top 10"
   ]
  },
  {
   "cell_type": "code",
   "execution_count": 34,
   "metadata": {},
   "outputs": [
    {
     "data": {
      "image/png": "[encoded data removed]",
      "text/plain": [
       "<Figure size 432x288 with 1 Axes>"
      ]
     },
     "metadata": {
      "needs_background": "light"
     },
     "output_type": "display_data"
    }
   ],
   "source": [
    "Import_df.plot.barh(color='r').invert_yaxis()\n",
    "plt.xlabel('Variable Importance')\n",
    "plt.gca().legend_ = None\n",
    "plt.grid()"
   ]
  },
  {
   "cell_type": "code",
   "execution_count": 35,
   "metadata": {},
   "outputs": [
    {
     "data": {
      "text/plain": [
       "RFECV(cv=10,\n",
       "      estimator=AdaBoostRegressor(base_estimator=None, learning_rate=0.05,\n",
       "                                  loss='linear', n_estimators=100,\n",
       "                                  random_state=0),\n",
       "      min_features_to_select=1, n_jobs=None, scoring='r2', step=1, verbose=0)"
      ]
     },
     "execution_count": 35,
     "metadata": {},
     "output_type": "execute_result"
    }
   ],
   "source": [
    "#NB = BayesianRidge(alpha_1=.01,alpha_2=100)\n",
    "AB = AdaBoostRegressor(n_estimators=100, learning_rate=.05,random_state=0)\n",
    "selector = RFECV(AB, step=1, cv=10, scoring='r2')\n",
    "selector.fit(X,y)"
   ]
  },
  {
   "cell_type": "code",
   "execution_count": 36,
   "metadata": {},
   "outputs": [
    {
     "data": {
      "text/plain": [
       "array([ True, False,  True,  True, False, False, False,  True,  True,\n",
       "        True, False, False, False, False,  True, False,  True, False,\n",
       "        True,  True, False, False, False,  True,  True,  True,  True,\n",
       "        True, False,  True,  True, False, False,  True, False,  True,\n",
       "       False,  True, False, False, False,  True, False, False, False,\n",
       "       False, False, False, False, False, False, False, False, False,\n",
       "        True,  True,  True])"
      ]
     },
     "execution_count": 36,
     "metadata": {},
     "output_type": "execute_result"
    }
   ],
   "source": [
    "selector.support_"
   ]
  },
  {
   "cell_type": "code",
   "execution_count": 37,
   "metadata": {},
   "outputs": [
    {
     "data": {
      "text/plain": [
       "array([ 1,  2,  1,  1,  4,  8, 18,  1,  1,  1, 11,  3, 16, 13,  1,  5,  1,\n",
       "        7,  1,  1, 20,  6, 14,  1,  1,  1,  1,  1, 19,  1,  1, 10, 12,  1,\n",
       "        9,  1, 15,  1, 30, 31, 33,  1, 34, 29, 28, 32, 21, 24, 17, 25, 26,\n",
       "       27, 22, 23,  1,  1,  1])"
      ]
     },
     "execution_count": 37,
     "metadata": {},
     "output_type": "execute_result"
    }
   ],
   "source": [
    "selector.ranking_"
   ]
  },
  {
   "cell_type": "code",
   "execution_count": 38,
   "metadata": {},
   "outputs": [
    {
     "data": {
      "text/plain": [
       "array([ 0.03019719, -0.04034048,  0.08626326,  0.12614772,  0.14903495,\n",
       "        0.19447981,  0.19297668,  0.21277788,  0.20484519,  0.07642474,\n",
       "        0.07862424,  0.08463616,  0.07603712,  0.13141706,  0.09156344,\n",
       "        0.06298006,  0.08439764,  0.06079523,  0.0974239 ,  0.07143416,\n",
       "        0.06269949,  0.06413193,  0.08759101,  0.2164206 ,  0.08371293,\n",
       "        0.09567386,  0.07397282,  0.13087899,  0.09979348,  0.08746291,\n",
       "        0.18957962,  0.0682104 ,  0.07636626,  0.21151994,  0.17073383,\n",
       "        0.21084459,  0.21122192,  0.15182215,  0.18876109,  0.1484347 ,\n",
       "        0.15275042,  0.16003393,  0.1911057 ,  0.18928492,  0.1348261 ,\n",
       "        0.09193921,  0.21135664,  0.13958801,  0.20180712,  0.17206474,\n",
       "        0.11019394,  0.20622589,  0.20758378,  0.16765158,  0.07041301,\n",
       "        0.08388057,  0.19544793])"
      ]
     },
     "execution_count": 38,
     "metadata": {},
     "output_type": "execute_result"
    }
   ],
   "source": [
    "selector.grid_scores_"
   ]
  },
  {
   "cell_type": "code",
   "execution_count": 39,
   "metadata": {},
   "outputs": [
    {
     "data": {
      "text/plain": [
       "0.21642059660225219"
      ]
     },
     "execution_count": 39,
     "metadata": {},
     "output_type": "execute_result"
    }
   ],
   "source": [
    "max(selector.grid_scores_)"
   ]
  },
  {
   "cell_type": "code",
   "execution_count": 40,
   "metadata": {},
   "outputs": [],
   "source": [
    "ranking = selector.ranking_\n",
    "scores = selector.grid_scores_\n",
    "var = np.array(X.columns)"
   ]
  },
  {
   "cell_type": "code",
   "execution_count": 41,
   "metadata": {},
   "outputs": [],
   "source": [
    "feat_df = pd.DataFrame()\n",
    "feat_df['Feature'] = var\n",
    "feat_df['Rank'] = ranking\n",
    "feat_df['-MSE'] = scores"
   ]
  },
  {
   "cell_type": "code",
   "execution_count": 42,
   "metadata": {},
   "outputs": [
    {
     "data": {
      "text/html": [
       "<div>\n",
       "<style scoped>\n",
       "    .dataframe tbody tr th:only-of-type {\n",
       "        vertical-align: middle;\n",
       "    }\n",
       "\n",
       "    .dataframe tbody tr th {\n",
       "        vertical-align: top;\n",
       "    }\n",
       "\n",
       "    .dataframe thead th {\n",
       "        text-align: right;\n",
       "    }\n",
       "</style>\n",
       "<table border=\"1\" class=\"dataframe\">\n",
       "  <thead>\n",
       "    <tr style=\"text-align: right;\">\n",
       "      <th></th>\n",
       "      <th>Feature</th>\n",
       "      <th>Rank</th>\n",
       "      <th>-MSE</th>\n",
       "    </tr>\n",
       "  </thead>\n",
       "  <tbody>\n",
       "    <tr>\n",
       "      <td>0</td>\n",
       "      <td>G-P Nodes</td>\n",
       "      <td>1</td>\n",
       "      <td>0.030197</td>\n",
       "    </tr>\n",
       "    <tr>\n",
       "      <td>54</td>\n",
       "      <td>lag_fatal_1</td>\n",
       "      <td>1</td>\n",
       "      <td>0.070413</td>\n",
       "    </tr>\n",
       "    <tr>\n",
       "      <td>41</td>\n",
       "      <td>Country_Code_SSD</td>\n",
       "      <td>1</td>\n",
       "      <td>0.160034</td>\n",
       "    </tr>\n",
       "    <tr>\n",
       "      <td>37</td>\n",
       "      <td>20</td>\n",
       "      <td>1</td>\n",
       "      <td>0.151822</td>\n",
       "    </tr>\n",
       "    <tr>\n",
       "      <td>35</td>\n",
       "      <td>18</td>\n",
       "      <td>1</td>\n",
       "      <td>0.210845</td>\n",
       "    </tr>\n",
       "    <tr>\n",
       "      <td>33</td>\n",
       "      <td>16</td>\n",
       "      <td>1</td>\n",
       "      <td>0.211520</td>\n",
       "    </tr>\n",
       "    <tr>\n",
       "      <td>30</td>\n",
       "      <td>13</td>\n",
       "      <td>1</td>\n",
       "      <td>0.189580</td>\n",
       "    </tr>\n",
       "    <tr>\n",
       "      <td>29</td>\n",
       "      <td>12</td>\n",
       "      <td>1</td>\n",
       "      <td>0.087463</td>\n",
       "    </tr>\n",
       "    <tr>\n",
       "      <td>55</td>\n",
       "      <td>lag_fatal_2</td>\n",
       "      <td>1</td>\n",
       "      <td>0.083881</td>\n",
       "    </tr>\n",
       "    <tr>\n",
       "      <td>27</td>\n",
       "      <td>10</td>\n",
       "      <td>1</td>\n",
       "      <td>0.130879</td>\n",
       "    </tr>\n",
       "    <tr>\n",
       "      <td>26</td>\n",
       "      <td>9</td>\n",
       "      <td>1</td>\n",
       "      <td>0.073973</td>\n",
       "    </tr>\n",
       "    <tr>\n",
       "      <td>25</td>\n",
       "      <td>8</td>\n",
       "      <td>1</td>\n",
       "      <td>0.095674</td>\n",
       "    </tr>\n",
       "    <tr>\n",
       "      <td>24</td>\n",
       "      <td>7</td>\n",
       "      <td>1</td>\n",
       "      <td>0.083713</td>\n",
       "    </tr>\n",
       "    <tr>\n",
       "      <td>23</td>\n",
       "      <td>6</td>\n",
       "      <td>1</td>\n",
       "      <td>0.216421</td>\n",
       "    </tr>\n",
       "    <tr>\n",
       "      <td>19</td>\n",
       "      <td>2</td>\n",
       "      <td>1</td>\n",
       "      <td>0.071434</td>\n",
       "    </tr>\n",
       "    <tr>\n",
       "      <td>18</td>\n",
       "      <td>1</td>\n",
       "      <td>1</td>\n",
       "      <td>0.097424</td>\n",
       "    </tr>\n",
       "    <tr>\n",
       "      <td>56</td>\n",
       "      <td>lag_fatal_3</td>\n",
       "      <td>1</td>\n",
       "      <td>0.195448</td>\n",
       "    </tr>\n",
       "    <tr>\n",
       "      <td>16</td>\n",
       "      <td>B-I Degree</td>\n",
       "      <td>1</td>\n",
       "      <td>0.084398</td>\n",
       "    </tr>\n",
       "    <tr>\n",
       "      <td>14</td>\n",
       "      <td>N-N Degree</td>\n",
       "      <td>1</td>\n",
       "      <td>0.091563</td>\n",
       "    </tr>\n",
       "    <tr>\n",
       "      <td>3</td>\n",
       "      <td>N-P Nodes</td>\n",
       "      <td>1</td>\n",
       "      <td>0.126148</td>\n",
       "    </tr>\n",
       "    <tr>\n",
       "      <td>7</td>\n",
       "      <td>B-I Nodes</td>\n",
       "      <td>1</td>\n",
       "      <td>0.212778</td>\n",
       "    </tr>\n",
       "    <tr>\n",
       "      <td>2</td>\n",
       "      <td>G-N Nodes</td>\n",
       "      <td>1</td>\n",
       "      <td>0.086263</td>\n",
       "    </tr>\n",
       "    <tr>\n",
       "      <td>9</td>\n",
       "      <td>G-P Degree</td>\n",
       "      <td>1</td>\n",
       "      <td>0.076425</td>\n",
       "    </tr>\n",
       "    <tr>\n",
       "      <td>8</td>\n",
       "      <td>B-N Nodes</td>\n",
       "      <td>1</td>\n",
       "      <td>0.204845</td>\n",
       "    </tr>\n",
       "    <tr>\n",
       "      <td>1</td>\n",
       "      <td>G-I Nodes</td>\n",
       "      <td>2</td>\n",
       "      <td>-0.040340</td>\n",
       "    </tr>\n",
       "    <tr>\n",
       "      <td>11</td>\n",
       "      <td>G-N Degree</td>\n",
       "      <td>3</td>\n",
       "      <td>0.084636</td>\n",
       "    </tr>\n",
       "    <tr>\n",
       "      <td>4</td>\n",
       "      <td>N-I Nodes</td>\n",
       "      <td>4</td>\n",
       "      <td>0.149035</td>\n",
       "    </tr>\n",
       "    <tr>\n",
       "      <td>15</td>\n",
       "      <td>B-P Degree</td>\n",
       "      <td>5</td>\n",
       "      <td>0.062980</td>\n",
       "    </tr>\n",
       "    <tr>\n",
       "      <td>21</td>\n",
       "      <td>4</td>\n",
       "      <td>6</td>\n",
       "      <td>0.064132</td>\n",
       "    </tr>\n",
       "    <tr>\n",
       "      <td>17</td>\n",
       "      <td>B-N Degree</td>\n",
       "      <td>7</td>\n",
       "      <td>0.060795</td>\n",
       "    </tr>\n",
       "    <tr>\n",
       "      <td>5</td>\n",
       "      <td>N-N Nodes</td>\n",
       "      <td>8</td>\n",
       "      <td>0.194480</td>\n",
       "    </tr>\n",
       "    <tr>\n",
       "      <td>34</td>\n",
       "      <td>17</td>\n",
       "      <td>9</td>\n",
       "      <td>0.170734</td>\n",
       "    </tr>\n",
       "    <tr>\n",
       "      <td>31</td>\n",
       "      <td>14</td>\n",
       "      <td>10</td>\n",
       "      <td>0.068210</td>\n",
       "    </tr>\n",
       "    <tr>\n",
       "      <td>10</td>\n",
       "      <td>G-I Degree</td>\n",
       "      <td>11</td>\n",
       "      <td>0.078624</td>\n",
       "    </tr>\n",
       "    <tr>\n",
       "      <td>32</td>\n",
       "      <td>15</td>\n",
       "      <td>12</td>\n",
       "      <td>0.076366</td>\n",
       "    </tr>\n",
       "    <tr>\n",
       "      <td>13</td>\n",
       "      <td>N-I Degree</td>\n",
       "      <td>13</td>\n",
       "      <td>0.131417</td>\n",
       "    </tr>\n",
       "    <tr>\n",
       "      <td>22</td>\n",
       "      <td>5</td>\n",
       "      <td>14</td>\n",
       "      <td>0.087591</td>\n",
       "    </tr>\n",
       "    <tr>\n",
       "      <td>36</td>\n",
       "      <td>19</td>\n",
       "      <td>15</td>\n",
       "      <td>0.211222</td>\n",
       "    </tr>\n",
       "    <tr>\n",
       "      <td>12</td>\n",
       "      <td>N-P Degree</td>\n",
       "      <td>16</td>\n",
       "      <td>0.076037</td>\n",
       "    </tr>\n",
       "    <tr>\n",
       "      <td>48</td>\n",
       "      <td>month_7</td>\n",
       "      <td>17</td>\n",
       "      <td>0.201807</td>\n",
       "    </tr>\n",
       "    <tr>\n",
       "      <td>6</td>\n",
       "      <td>B-P Nodes</td>\n",
       "      <td>18</td>\n",
       "      <td>0.192977</td>\n",
       "    </tr>\n",
       "    <tr>\n",
       "      <td>28</td>\n",
       "      <td>11</td>\n",
       "      <td>19</td>\n",
       "      <td>0.099793</td>\n",
       "    </tr>\n",
       "    <tr>\n",
       "      <td>20</td>\n",
       "      <td>3</td>\n",
       "      <td>20</td>\n",
       "      <td>0.062699</td>\n",
       "    </tr>\n",
       "    <tr>\n",
       "      <td>46</td>\n",
       "      <td>month_5</td>\n",
       "      <td>21</td>\n",
       "      <td>0.211357</td>\n",
       "    </tr>\n",
       "    <tr>\n",
       "      <td>52</td>\n",
       "      <td>month_11</td>\n",
       "      <td>22</td>\n",
       "      <td>0.207584</td>\n",
       "    </tr>\n",
       "    <tr>\n",
       "      <td>53</td>\n",
       "      <td>month_12</td>\n",
       "      <td>23</td>\n",
       "      <td>0.167652</td>\n",
       "    </tr>\n",
       "    <tr>\n",
       "      <td>47</td>\n",
       "      <td>month_6</td>\n",
       "      <td>24</td>\n",
       "      <td>0.139588</td>\n",
       "    </tr>\n",
       "    <tr>\n",
       "      <td>49</td>\n",
       "      <td>month_8</td>\n",
       "      <td>25</td>\n",
       "      <td>0.172065</td>\n",
       "    </tr>\n",
       "    <tr>\n",
       "      <td>50</td>\n",
       "      <td>month_9</td>\n",
       "      <td>26</td>\n",
       "      <td>0.110194</td>\n",
       "    </tr>\n",
       "    <tr>\n",
       "      <td>51</td>\n",
       "      <td>month_10</td>\n",
       "      <td>27</td>\n",
       "      <td>0.206226</td>\n",
       "    </tr>\n",
       "    <tr>\n",
       "      <td>44</td>\n",
       "      <td>month_3</td>\n",
       "      <td>28</td>\n",
       "      <td>0.134826</td>\n",
       "    </tr>\n",
       "    <tr>\n",
       "      <td>43</td>\n",
       "      <td>month_2</td>\n",
       "      <td>29</td>\n",
       "      <td>0.189285</td>\n",
       "    </tr>\n",
       "    <tr>\n",
       "      <td>38</td>\n",
       "      <td>Country_Code_CAF</td>\n",
       "      <td>30</td>\n",
       "      <td>0.188761</td>\n",
       "    </tr>\n",
       "    <tr>\n",
       "      <td>39</td>\n",
       "      <td>Country_Code_COD</td>\n",
       "      <td>31</td>\n",
       "      <td>0.148435</td>\n",
       "    </tr>\n",
       "    <tr>\n",
       "      <td>45</td>\n",
       "      <td>month_4</td>\n",
       "      <td>32</td>\n",
       "      <td>0.091939</td>\n",
       "    </tr>\n",
       "    <tr>\n",
       "      <td>40</td>\n",
       "      <td>Country_Code_ETH</td>\n",
       "      <td>33</td>\n",
       "      <td>0.152750</td>\n",
       "    </tr>\n",
       "    <tr>\n",
       "      <td>42</td>\n",
       "      <td>month_1</td>\n",
       "      <td>34</td>\n",
       "      <td>0.191106</td>\n",
       "    </tr>\n",
       "  </tbody>\n",
       "</table>\n",
       "</div>"
      ],
      "text/plain": [
       "             Feature  Rank      -MSE\n",
       "0          G-P Nodes     1  0.030197\n",
       "54       lag_fatal_1     1  0.070413\n",
       "41  Country_Code_SSD     1  0.160034\n",
       "37                20     1  0.151822\n",
       "35                18     1  0.210845\n",
       "33                16     1  0.211520\n",
       "30                13     1  0.189580\n",
       "29                12     1  0.087463\n",
       "55       lag_fatal_2     1  0.083881\n",
       "27                10     1  0.130879\n",
       "26                 9     1  0.073973\n",
       "25                 8     1  0.095674\n",
       "24                 7     1  0.083713\n",
       "23                 6     1  0.216421\n",
       "19                 2     1  0.071434\n",
       "18                 1     1  0.097424\n",
       "56       lag_fatal_3     1  0.195448\n",
       "16        B-I Degree     1  0.084398\n",
       "14        N-N Degree     1  0.091563\n",
       "3          N-P Nodes     1  0.126148\n",
       "7          B-I Nodes     1  0.212778\n",
       "2          G-N Nodes     1  0.086263\n",
       "9         G-P Degree     1  0.076425\n",
       "8          B-N Nodes     1  0.204845\n",
       "1          G-I Nodes     2 -0.040340\n",
       "11        G-N Degree     3  0.084636\n",
       "4          N-I Nodes     4  0.149035\n",
       "15        B-P Degree     5  0.062980\n",
       "21                 4     6  0.064132\n",
       "17        B-N Degree     7  0.060795\n",
       "5          N-N Nodes     8  0.194480\n",
       "34                17     9  0.170734\n",
       "31                14    10  0.068210\n",
       "10        G-I Degree    11  0.078624\n",
       "32                15    12  0.076366\n",
       "13        N-I Degree    13  0.131417\n",
       "22                 5    14  0.087591\n",
       "36                19    15  0.211222\n",
       "12        N-P Degree    16  0.076037\n",
       "48           month_7    17  0.201807\n",
       "6          B-P Nodes    18  0.192977\n",
       "28                11    19  0.099793\n",
       "20                 3    20  0.062699\n",
       "46           month_5    21  0.211357\n",
       "52          month_11    22  0.207584\n",
       "53          month_12    23  0.167652\n",
       "47           month_6    24  0.139588\n",
       "49           month_8    25  0.172065\n",
       "50           month_9    26  0.110194\n",
       "51          month_10    27  0.206226\n",
       "44           month_3    28  0.134826\n",
       "43           month_2    29  0.189285\n",
       "38  Country_Code_CAF    30  0.188761\n",
       "39  Country_Code_COD    31  0.148435\n",
       "45           month_4    32  0.091939\n",
       "40  Country_Code_ETH    33  0.152750\n",
       "42           month_1    34  0.191106"
      ]
     },
     "execution_count": 42,
     "metadata": {},
     "output_type": "execute_result"
    }
   ],
   "source": [
    "feat_df.sort_values('Rank', ascending=True)"
   ]
  },
  {
   "cell_type": "code",
   "execution_count": 43,
   "metadata": {},
   "outputs": [
    {
     "data": {
      "text/html": [
       "<div>\n",
       "<style scoped>\n",
       "    .dataframe tbody tr th:only-of-type {\n",
       "        vertical-align: middle;\n",
       "    }\n",
       "\n",
       "    .dataframe tbody tr th {\n",
       "        vertical-align: top;\n",
       "    }\n",
       "\n",
       "    .dataframe thead th {\n",
       "        text-align: right;\n",
       "    }\n",
       "</style>\n",
       "<table border=\"1\" class=\"dataframe\">\n",
       "  <thead>\n",
       "    <tr style=\"text-align: right;\">\n",
       "      <th></th>\n",
       "      <th>NB Coefs</th>\n",
       "      <th>RR Coefs</th>\n",
       "      <th>Lasso Coefs</th>\n",
       "    </tr>\n",
       "  </thead>\n",
       "  <tbody>\n",
       "    <tr>\n",
       "      <td>Country_Code_SSD</td>\n",
       "      <td>14.421999</td>\n",
       "      <td>21.805223</td>\n",
       "      <td>33.238255</td>\n",
       "    </tr>\n",
       "    <tr>\n",
       "      <td>lag_fatal_1</td>\n",
       "      <td>10.679929</td>\n",
       "      <td>11.948381</td>\n",
       "      <td>20.054396</td>\n",
       "    </tr>\n",
       "    <tr>\n",
       "      <td>G-N Nodes</td>\n",
       "      <td>8.027239</td>\n",
       "      <td>18.276553</td>\n",
       "      <td>0.000000</td>\n",
       "    </tr>\n",
       "    <tr>\n",
       "      <td>8</td>\n",
       "      <td>6.961810</td>\n",
       "      <td>12.018443</td>\n",
       "      <td>0.629776</td>\n",
       "    </tr>\n",
       "    <tr>\n",
       "      <td>7</td>\n",
       "      <td>6.887636</td>\n",
       "      <td>12.571446</td>\n",
       "      <td>0.069912</td>\n",
       "    </tr>\n",
       "    <tr>\n",
       "      <td>lag_fatal_2</td>\n",
       "      <td>6.858088</td>\n",
       "      <td>4.722951</td>\n",
       "      <td>5.508723</td>\n",
       "    </tr>\n",
       "    <tr>\n",
       "      <td>B-I Nodes</td>\n",
       "      <td>6.772106</td>\n",
       "      <td>18.590246</td>\n",
       "      <td>0.000000</td>\n",
       "    </tr>\n",
       "    <tr>\n",
       "      <td>lag_fatal_3</td>\n",
       "      <td>6.754633</td>\n",
       "      <td>6.704420</td>\n",
       "      <td>0.000000</td>\n",
       "    </tr>\n",
       "    <tr>\n",
       "      <td>19</td>\n",
       "      <td>5.912642</td>\n",
       "      <td>10.760197</td>\n",
       "      <td>0.000000</td>\n",
       "    </tr>\n",
       "    <tr>\n",
       "      <td>month_12</td>\n",
       "      <td>4.581826</td>\n",
       "      <td>6.785229</td>\n",
       "      <td>0.000000</td>\n",
       "    </tr>\n",
       "    <tr>\n",
       "      <td>13</td>\n",
       "      <td>3.958353</td>\n",
       "      <td>6.325402</td>\n",
       "      <td>0.000000</td>\n",
       "    </tr>\n",
       "    <tr>\n",
       "      <td>2</td>\n",
       "      <td>3.794582</td>\n",
       "      <td>7.525026</td>\n",
       "      <td>0.000000</td>\n",
       "    </tr>\n",
       "    <tr>\n",
       "      <td>month_5</td>\n",
       "      <td>3.458372</td>\n",
       "      <td>6.073805</td>\n",
       "      <td>0.000000</td>\n",
       "    </tr>\n",
       "    <tr>\n",
       "      <td>18</td>\n",
       "      <td>3.009682</td>\n",
       "      <td>2.643503</td>\n",
       "      <td>0.000000</td>\n",
       "    </tr>\n",
       "    <tr>\n",
       "      <td>month_7</td>\n",
       "      <td>2.533401</td>\n",
       "      <td>3.431055</td>\n",
       "      <td>0.000000</td>\n",
       "    </tr>\n",
       "    <tr>\n",
       "      <td>B-P Degree</td>\n",
       "      <td>2.014501</td>\n",
       "      <td>2.728360</td>\n",
       "      <td>0.000000</td>\n",
       "    </tr>\n",
       "    <tr>\n",
       "      <td>B-N Nodes</td>\n",
       "      <td>1.744162</td>\n",
       "      <td>1.925156</td>\n",
       "      <td>0.000000</td>\n",
       "    </tr>\n",
       "    <tr>\n",
       "      <td>9</td>\n",
       "      <td>1.442390</td>\n",
       "      <td>7.493858</td>\n",
       "      <td>0.000000</td>\n",
       "    </tr>\n",
       "    <tr>\n",
       "      <td>G-P Nodes</td>\n",
       "      <td>1.266538</td>\n",
       "      <td>3.857188</td>\n",
       "      <td>-0.000000</td>\n",
       "    </tr>\n",
       "    <tr>\n",
       "      <td>G-I Nodes</td>\n",
       "      <td>1.161676</td>\n",
       "      <td>1.799841</td>\n",
       "      <td>-0.000000</td>\n",
       "    </tr>\n",
       "    <tr>\n",
       "      <td>month_2</td>\n",
       "      <td>0.972193</td>\n",
       "      <td>3.214389</td>\n",
       "      <td>0.000000</td>\n",
       "    </tr>\n",
       "    <tr>\n",
       "      <td>11</td>\n",
       "      <td>0.873486</td>\n",
       "      <td>-6.527650</td>\n",
       "      <td>0.000000</td>\n",
       "    </tr>\n",
       "    <tr>\n",
       "      <td>N-P Degree</td>\n",
       "      <td>0.722778</td>\n",
       "      <td>7.002485</td>\n",
       "      <td>-0.000000</td>\n",
       "    </tr>\n",
       "    <tr>\n",
       "      <td>20</td>\n",
       "      <td>0.374978</td>\n",
       "      <td>-0.296953</td>\n",
       "      <td>0.000000</td>\n",
       "    </tr>\n",
       "    <tr>\n",
       "      <td>month_11</td>\n",
       "      <td>0.323216</td>\n",
       "      <td>1.884518</td>\n",
       "      <td>-0.000000</td>\n",
       "    </tr>\n",
       "    <tr>\n",
       "      <td>G-P Degree</td>\n",
       "      <td>0.242961</td>\n",
       "      <td>1.088970</td>\n",
       "      <td>-0.000000</td>\n",
       "    </tr>\n",
       "    <tr>\n",
       "      <td>Country_Code_COD</td>\n",
       "      <td>0.235769</td>\n",
       "      <td>1.155496</td>\n",
       "      <td>0.000000</td>\n",
       "    </tr>\n",
       "    <tr>\n",
       "      <td>15</td>\n",
       "      <td>0.201648</td>\n",
       "      <td>-3.343094</td>\n",
       "      <td>0.000000</td>\n",
       "    </tr>\n",
       "    <tr>\n",
       "      <td>14</td>\n",
       "      <td>0.087533</td>\n",
       "      <td>6.343444</td>\n",
       "      <td>0.000000</td>\n",
       "    </tr>\n",
       "    <tr>\n",
       "      <td>month_10</td>\n",
       "      <td>0.014103</td>\n",
       "      <td>-1.099341</td>\n",
       "      <td>0.000000</td>\n",
       "    </tr>\n",
       "    <tr>\n",
       "      <td>month_4</td>\n",
       "      <td>-0.014202</td>\n",
       "      <td>0.238893</td>\n",
       "      <td>-0.000000</td>\n",
       "    </tr>\n",
       "    <tr>\n",
       "      <td>16</td>\n",
       "      <td>-0.093695</td>\n",
       "      <td>-2.324894</td>\n",
       "      <td>-0.000000</td>\n",
       "    </tr>\n",
       "    <tr>\n",
       "      <td>N-N Nodes</td>\n",
       "      <td>-0.181873</td>\n",
       "      <td>-3.535454</td>\n",
       "      <td>-0.000000</td>\n",
       "    </tr>\n",
       "    <tr>\n",
       "      <td>B-P Nodes</td>\n",
       "      <td>-0.423096</td>\n",
       "      <td>-0.480388</td>\n",
       "      <td>-0.000000</td>\n",
       "    </tr>\n",
       "    <tr>\n",
       "      <td>G-I Degree</td>\n",
       "      <td>-0.687438</td>\n",
       "      <td>3.983796</td>\n",
       "      <td>-0.000000</td>\n",
       "    </tr>\n",
       "    <tr>\n",
       "      <td>month_6</td>\n",
       "      <td>-0.762755</td>\n",
       "      <td>-2.692709</td>\n",
       "      <td>-0.000000</td>\n",
       "    </tr>\n",
       "    <tr>\n",
       "      <td>month_8</td>\n",
       "      <td>-0.853229</td>\n",
       "      <td>-1.669858</td>\n",
       "      <td>0.000000</td>\n",
       "    </tr>\n",
       "    <tr>\n",
       "      <td>G-N Degree</td>\n",
       "      <td>-1.109219</td>\n",
       "      <td>-5.415094</td>\n",
       "      <td>-0.000000</td>\n",
       "    </tr>\n",
       "    <tr>\n",
       "      <td>12</td>\n",
       "      <td>-1.137017</td>\n",
       "      <td>-2.692875</td>\n",
       "      <td>-0.000000</td>\n",
       "    </tr>\n",
       "    <tr>\n",
       "      <td>1</td>\n",
       "      <td>-1.156389</td>\n",
       "      <td>-3.228345</td>\n",
       "      <td>-0.000000</td>\n",
       "    </tr>\n",
       "    <tr>\n",
       "      <td>N-N Degree</td>\n",
       "      <td>-1.243039</td>\n",
       "      <td>-4.223368</td>\n",
       "      <td>-0.000000</td>\n",
       "    </tr>\n",
       "    <tr>\n",
       "      <td>6</td>\n",
       "      <td>-1.593615</td>\n",
       "      <td>-6.531818</td>\n",
       "      <td>-0.000000</td>\n",
       "    </tr>\n",
       "    <tr>\n",
       "      <td>B-I Degree</td>\n",
       "      <td>-1.630435</td>\n",
       "      <td>-6.441046</td>\n",
       "      <td>-0.000000</td>\n",
       "    </tr>\n",
       "    <tr>\n",
       "      <td>10</td>\n",
       "      <td>-1.683492</td>\n",
       "      <td>-7.631127</td>\n",
       "      <td>-0.000000</td>\n",
       "    </tr>\n",
       "    <tr>\n",
       "      <td>N-P Nodes</td>\n",
       "      <td>-1.993323</td>\n",
       "      <td>-6.485956</td>\n",
       "      <td>-0.000000</td>\n",
       "    </tr>\n",
       "    <tr>\n",
       "      <td>4</td>\n",
       "      <td>-2.017897</td>\n",
       "      <td>-1.401183</td>\n",
       "      <td>-0.000000</td>\n",
       "    </tr>\n",
       "    <tr>\n",
       "      <td>B-N Degree</td>\n",
       "      <td>-2.492073</td>\n",
       "      <td>-5.999672</td>\n",
       "      <td>-0.000000</td>\n",
       "    </tr>\n",
       "    <tr>\n",
       "      <td>N-I Nodes</td>\n",
       "      <td>-3.179615</td>\n",
       "      <td>-8.970710</td>\n",
       "      <td>-0.000000</td>\n",
       "    </tr>\n",
       "    <tr>\n",
       "      <td>month_9</td>\n",
       "      <td>-3.355971</td>\n",
       "      <td>-5.564817</td>\n",
       "      <td>-0.000000</td>\n",
       "    </tr>\n",
       "    <tr>\n",
       "      <td>month_3</td>\n",
       "      <td>-3.377365</td>\n",
       "      <td>-5.461531</td>\n",
       "      <td>-0.000000</td>\n",
       "    </tr>\n",
       "    <tr>\n",
       "      <td>month_1</td>\n",
       "      <td>-4.127619</td>\n",
       "      <td>-5.889802</td>\n",
       "      <td>-1.658489</td>\n",
       "    </tr>\n",
       "    <tr>\n",
       "      <td>N-I Degree</td>\n",
       "      <td>-4.156435</td>\n",
       "      <td>-6.993097</td>\n",
       "      <td>-0.000000</td>\n",
       "    </tr>\n",
       "    <tr>\n",
       "      <td>3</td>\n",
       "      <td>-4.834141</td>\n",
       "      <td>-8.678331</td>\n",
       "      <td>-0.000000</td>\n",
       "    </tr>\n",
       "    <tr>\n",
       "      <td>17</td>\n",
       "      <td>-5.144866</td>\n",
       "      <td>-9.360135</td>\n",
       "      <td>-0.000000</td>\n",
       "    </tr>\n",
       "    <tr>\n",
       "      <td>Country_Code_ETH</td>\n",
       "      <td>-5.404967</td>\n",
       "      <td>-6.453302</td>\n",
       "      <td>-0.000000</td>\n",
       "    </tr>\n",
       "    <tr>\n",
       "      <td>5</td>\n",
       "      <td>-6.010399</td>\n",
       "      <td>-11.566552</td>\n",
       "      <td>-0.082910</td>\n",
       "    </tr>\n",
       "    <tr>\n",
       "      <td>Country_Code_CAF</td>\n",
       "      <td>-9.252801</td>\n",
       "      <td>-16.507418</td>\n",
       "      <td>-1.547922</td>\n",
       "    </tr>\n",
       "  </tbody>\n",
       "</table>\n",
       "</div>"
      ],
      "text/plain": [
       "                   NB Coefs   RR Coefs  Lasso Coefs\n",
       "Country_Code_SSD  14.421999  21.805223    33.238255\n",
       "lag_fatal_1       10.679929  11.948381    20.054396\n",
       "G-N Nodes          8.027239  18.276553     0.000000\n",
       "8                  6.961810  12.018443     0.629776\n",
       "7                  6.887636  12.571446     0.069912\n",
       "lag_fatal_2        6.858088   4.722951     5.508723\n",
       "B-I Nodes          6.772106  18.590246     0.000000\n",
       "lag_fatal_3        6.754633   6.704420     0.000000\n",
       "19                 5.912642  10.760197     0.000000\n",
       "month_12           4.581826   6.785229     0.000000\n",
       "13                 3.958353   6.325402     0.000000\n",
       "2                  3.794582   7.525026     0.000000\n",
       "month_5            3.458372   6.073805     0.000000\n",
       "18                 3.009682   2.643503     0.000000\n",
       "month_7            2.533401   3.431055     0.000000\n",
       "B-P Degree         2.014501   2.728360     0.000000\n",
       "B-N Nodes          1.744162   1.925156     0.000000\n",
       "9                  1.442390   7.493858     0.000000\n",
       "G-P Nodes          1.266538   3.857188    -0.000000\n",
       "G-I Nodes          1.161676   1.799841    -0.000000\n",
       "month_2            0.972193   3.214389     0.000000\n",
       "11                 0.873486  -6.527650     0.000000\n",
       "N-P Degree         0.722778   7.002485    -0.000000\n",
       "20                 0.374978  -0.296953     0.000000\n",
       "month_11           0.323216   1.884518    -0.000000\n",
       "G-P Degree         0.242961   1.088970    -0.000000\n",
       "Country_Code_COD   0.235769   1.155496     0.000000\n",
       "15                 0.201648  -3.343094     0.000000\n",
       "14                 0.087533   6.343444     0.000000\n",
       "month_10           0.014103  -1.099341     0.000000\n",
       "month_4           -0.014202   0.238893    -0.000000\n",
       "16                -0.093695  -2.324894    -0.000000\n",
       "N-N Nodes         -0.181873  -3.535454    -0.000000\n",
       "B-P Nodes         -0.423096  -0.480388    -0.000000\n",
       "G-I Degree        -0.687438   3.983796    -0.000000\n",
       "month_6           -0.762755  -2.692709    -0.000000\n",
       "month_8           -0.853229  -1.669858     0.000000\n",
       "G-N Degree        -1.109219  -5.415094    -0.000000\n",
       "12                -1.137017  -2.692875    -0.000000\n",
       "1                 -1.156389  -3.228345    -0.000000\n",
       "N-N Degree        -1.243039  -4.223368    -0.000000\n",
       "6                 -1.593615  -6.531818    -0.000000\n",
       "B-I Degree        -1.630435  -6.441046    -0.000000\n",
       "10                -1.683492  -7.631127    -0.000000\n",
       "N-P Nodes         -1.993323  -6.485956    -0.000000\n",
       "4                 -2.017897  -1.401183    -0.000000\n",
       "B-N Degree        -2.492073  -5.999672    -0.000000\n",
       "N-I Nodes         -3.179615  -8.970710    -0.000000\n",
       "month_9           -3.355971  -5.564817    -0.000000\n",
       "month_3           -3.377365  -5.461531    -0.000000\n",
       "month_1           -4.127619  -5.889802    -1.658489\n",
       "N-I Degree        -4.156435  -6.993097    -0.000000\n",
       "3                 -4.834141  -8.678331    -0.000000\n",
       "17                -5.144866  -9.360135    -0.000000\n",
       "Country_Code_ETH  -5.404967  -6.453302    -0.000000\n",
       "5                 -6.010399 -11.566552    -0.082910\n",
       "Country_Code_CAF  -9.252801 -16.507418    -1.547922"
      ]
     },
     "execution_count": 43,
     "metadata": {},
     "output_type": "execute_result"
    }
   ],
   "source": [
    "coef_df.dropna()"
   ]
  },
  {
   "cell_type": "code",
   "execution_count": 44,
   "metadata": {},
   "outputs": [
    {
     "ename": "ValueError",
     "evalue": "No axis named Average for object type <class 'pandas.core.series.Series'>",
     "output_type": "error",
     "traceback": [
      "\u001b[1;31m---------------------------------------------------------------------------\u001b[0m",
      "\u001b[1;31mValueError\u001b[0m                                Traceback (most recent call last)",
      "\u001b[1;32m<ipython-input-44-4019cdae8efa>\u001b[0m in \u001b[0;36m<module>\u001b[1;34m\u001b[0m\n\u001b[0;32m      1\u001b[0m \u001b[0mcoef_df\u001b[0m\u001b[1;33m[\u001b[0m\u001b[1;34m'Average'\u001b[0m\u001b[1;33m]\u001b[0m \u001b[1;33m=\u001b[0m \u001b[0mcoef_df\u001b[0m\u001b[1;33m.\u001b[0m\u001b[0mmean\u001b[0m\u001b[1;33m(\u001b[0m\u001b[0maxis\u001b[0m\u001b[1;33m=\u001b[0m\u001b[1;36m1\u001b[0m\u001b[1;33m)\u001b[0m\u001b[1;33m\u001b[0m\u001b[1;33m\u001b[0m\u001b[0m\n\u001b[1;32m----> 2\u001b[1;33m \u001b[0mcoef_df\u001b[0m\u001b[1;33m[\u001b[0m\u001b[1;34m'NB Coefs'\u001b[0m\u001b[1;33m]\u001b[0m\u001b[1;33m.\u001b[0m\u001b[0msort_values\u001b[0m\u001b[1;33m(\u001b[0m\u001b[1;34m'Average'\u001b[0m\u001b[1;33m,\u001b[0m \u001b[0mascending\u001b[0m\u001b[1;33m=\u001b[0m\u001b[1;32mTrue\u001b[0m\u001b[1;33m)\u001b[0m\u001b[1;33m\u001b[0m\u001b[1;33m\u001b[0m\u001b[0m\n\u001b[0m",
      "\u001b[1;32m~\\Anaconda3\\lib\\site-packages\\pandas\\core\\series.py\u001b[0m in \u001b[0;36msort_values\u001b[1;34m(self, axis, ascending, inplace, kind, na_position)\u001b[0m\n\u001b[0;32m   3135\u001b[0m         \u001b[0minplace\u001b[0m \u001b[1;33m=\u001b[0m \u001b[0mvalidate_bool_kwarg\u001b[0m\u001b[1;33m(\u001b[0m\u001b[0minplace\u001b[0m\u001b[1;33m,\u001b[0m \u001b[1;34m\"inplace\"\u001b[0m\u001b[1;33m)\u001b[0m\u001b[1;33m\u001b[0m\u001b[1;33m\u001b[0m\u001b[0m\n\u001b[0;32m   3136\u001b[0m         \u001b[1;31m# Validate the axis parameter\u001b[0m\u001b[1;33m\u001b[0m\u001b[1;33m\u001b[0m\u001b[1;33m\u001b[0m\u001b[0m\n\u001b[1;32m-> 3137\u001b[1;33m         \u001b[0mself\u001b[0m\u001b[1;33m.\u001b[0m\u001b[0m_get_axis_number\u001b[0m\u001b[1;33m(\u001b[0m\u001b[0maxis\u001b[0m\u001b[1;33m)\u001b[0m\u001b[1;33m\u001b[0m\u001b[1;33m\u001b[0m\u001b[0m\n\u001b[0m\u001b[0;32m   3138\u001b[0m \u001b[1;33m\u001b[0m\u001b[0m\n\u001b[0;32m   3139\u001b[0m         \u001b[1;31m# GH 5856/5853\u001b[0m\u001b[1;33m\u001b[0m\u001b[1;33m\u001b[0m\u001b[1;33m\u001b[0m\u001b[0m\n",
      "\u001b[1;32m~\\Anaconda3\\lib\\site-packages\\pandas\\core\\generic.py\u001b[0m in \u001b[0;36m_get_axis_number\u001b[1;34m(cls, axis)\u001b[0m\n\u001b[0;32m    409\u001b[0m             \u001b[1;32mexcept\u001b[0m \u001b[0mKeyError\u001b[0m\u001b[1;33m:\u001b[0m\u001b[1;33m\u001b[0m\u001b[1;33m\u001b[0m\u001b[0m\n\u001b[0;32m    410\u001b[0m                 \u001b[1;32mpass\u001b[0m\u001b[1;33m\u001b[0m\u001b[1;33m\u001b[0m\u001b[0m\n\u001b[1;32m--> 411\u001b[1;33m         \u001b[1;32mraise\u001b[0m \u001b[0mValueError\u001b[0m\u001b[1;33m(\u001b[0m\u001b[1;34m\"No axis named {0} for object type {1}\"\u001b[0m\u001b[1;33m.\u001b[0m\u001b[0mformat\u001b[0m\u001b[1;33m(\u001b[0m\u001b[0maxis\u001b[0m\u001b[1;33m,\u001b[0m \u001b[0mcls\u001b[0m\u001b[1;33m)\u001b[0m\u001b[1;33m)\u001b[0m\u001b[1;33m\u001b[0m\u001b[1;33m\u001b[0m\u001b[0m\n\u001b[0m\u001b[0;32m    412\u001b[0m \u001b[1;33m\u001b[0m\u001b[0m\n\u001b[0;32m    413\u001b[0m     \u001b[1;33m@\u001b[0m\u001b[0mclassmethod\u001b[0m\u001b[1;33m\u001b[0m\u001b[1;33m\u001b[0m\u001b[0m\n",
      "\u001b[1;31mValueError\u001b[0m: No axis named Average for object type <class 'pandas.core.series.Series'>"
     ]
    }
   ],
   "source": [
    "coef_df['Average'] = coef_df.mean(axis=1)\n",
    "coef_df['NB Coefs'].sort_values('Average', ascending=True)"
   ]
  },
  {
   "cell_type": "code",
   "execution_count": null,
   "metadata": {},
   "outputs": [],
   "source": [
    "Import_df['Average'] = Import_df.mean(axis=1)\n",
    "Import_df.sort_values('Average', ascending=False)"
   ]
  },
  {
   "cell_type": "code",
   "execution_count": null,
   "metadata": {},
   "outputs": [],
   "source": []
  }
 ],
 "metadata": {
  "kernelspec": {
   "display_name": "Python 3",
   "language": "python",
   "name": "python3"
  },
  "language_info": {
   "codemirror_mode": {
    "name": "ipython",
    "version": 3
   },
   "file_extension": ".py",
   "mimetype": "text/x-python",
   "name": "python",
   "nbconvert_exporter": "python",
   "pygments_lexer": "ipython3",
   "version": "3.7.4"
  }
 },
 "nbformat": 4,
 "nbformat_minor": 2
}
