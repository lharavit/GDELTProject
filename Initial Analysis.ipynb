{
 "cells": [
  {
   "cell_type": "code",
   "execution_count": 1,
   "metadata": {},
   "outputs": [],
   "source": [
    "import pandas as pd\n",
    "import numpy as np\n",
    "import matplotlib.pyplot as plt"
   ]
  },
  {
   "cell_type": "code",
   "execution_count": 2,
   "metadata": {},
   "outputs": [],
   "source": [
    "from sklearn.model_selection import KFold, cross_val_score\n",
    "from sklearn.model_selection import train_test_split"
   ]
  },
  {
   "cell_type": "code",
   "execution_count": null,
   "metadata": {},
   "outputs": [],
   "source": [
    "from src import configuration_nb"
   ]
  },
  {
   "cell_type": "code",
   "execution_count": 490,
   "metadata": {},
   "outputs": [],
   "source": [
    "df = pd.read_csv('new_data.csv')"
   ]
  },
  {
   "cell_type": "code",
   "execution_count": 491,
   "metadata": {},
   "outputs": [],
   "source": [
    "df2 = df.drop(columns = ['Year/Month', 'Unnamed: 0'])"
   ]
  },
  {
   "cell_type": "code",
   "execution_count": 492,
   "metadata": {},
   "outputs": [],
   "source": [
    "#df2 = df2[df2['Country_Code'] == 'SSD']"
   ]
  },
  {
   "cell_type": "code",
   "execution_count": 493,
   "metadata": {},
   "outputs": [],
   "source": [
    "df3 = pd.get_dummies(df2, columns = ['Country_Code', 'month'])"
   ]
  },
  {
   "cell_type": "code",
   "execution_count": 494,
   "metadata": {},
   "outputs": [],
   "source": [
    "X = df3.drop(columns = 'fatalities')\n",
    "y = df3.fatalities"
   ]
  },
  {
   "cell_type": "code",
   "execution_count": 495,
   "metadata": {},
   "outputs": [],
   "source": [
    "#X = df3[['G-P Nodes', 'G-I Nodes', 'B-N Degree','N-P Degree']]\n",
    "#y = df3.fatalities"
   ]
  },
  {
   "cell_type": "code",
   "execution_count": 496,
   "metadata": {},
   "outputs": [],
   "source": [
    "X_train,X_test,y_train,y_test = train_test_split(X,y,train_size=0.7,\n",
    "                                                random_state=2)"
   ]
  },
  {
   "cell_type": "markdown",
   "metadata": {},
   "source": [
    "## Decision Tree"
   ]
  },
  {
   "cell_type": "code",
   "execution_count": 497,
   "metadata": {},
   "outputs": [],
   "source": [
    "from sklearn.tree import DecisionTreeRegressor\n",
    "from sklearn.ensemble import RandomForestRegressor"
   ]
  },
  {
   "cell_type": "code",
   "execution_count": null,
   "metadata": {},
   "outputs": [],
   "source": []
  },
  {
   "cell_type": "code",
   "execution_count": 498,
   "metadata": {},
   "outputs": [],
   "source": [
    "from sklearn.metrics import confusion_matrix, mean_squared_error"
   ]
  },
  {
   "cell_type": "code",
   "execution_count": 499,
   "metadata": {},
   "outputs": [],
   "source": [
    "kfold = KFold(n_splits = 10, random_state=1)"
   ]
  },
  {
   "cell_type": "code",
   "execution_count": 500,
   "metadata": {},
   "outputs": [],
   "source": [
    "model = DecisionTreeRegressor(max_depth=5)"
   ]
  },
  {
   "cell_type": "code",
   "execution_count": 501,
   "metadata": {},
   "outputs": [],
   "source": [
    "result = cross_val_score(model,X,y,cv=kfold,scoring='neg_mean_squared_error')"
   ]
  },
  {
   "cell_type": "code",
   "execution_count": 502,
   "metadata": {},
   "outputs": [
    {
     "data": {
      "text/plain": [
       "-12520.480707523235"
      ]
     },
     "execution_count": 502,
     "metadata": {},
     "output_type": "execute_result"
    }
   ],
   "source": [
    "result.mean()"
   ]
  },
  {
   "cell_type": "code",
   "execution_count": 503,
   "metadata": {},
   "outputs": [
    {
     "data": {
      "text/plain": [
       "(164, 54)"
      ]
     },
     "execution_count": 503,
     "metadata": {},
     "output_type": "execute_result"
    }
   ],
   "source": [
    "X.shape"
   ]
  },
  {
   "cell_type": "markdown",
   "metadata": {},
   "source": [
    "## Bagging"
   ]
  },
  {
   "cell_type": "code",
   "execution_count": 504,
   "metadata": {},
   "outputs": [
    {
     "data": {
      "text/plain": [
       "RandomForestRegressor(bootstrap=True, criterion='mse', max_depth=None,\n",
       "                      max_features=4, max_leaf_nodes=None,\n",
       "                      min_impurity_decrease=0.0, min_impurity_split=None,\n",
       "                      min_samples_leaf=1, min_samples_split=2,\n",
       "                      min_weight_fraction_leaf=0.0, n_estimators=1000,\n",
       "                      n_jobs=None, oob_score=False, random_state=1, verbose=0,\n",
       "                      warm_start=False)"
      ]
     },
     "execution_count": 504,
     "metadata": {},
     "output_type": "execute_result"
    }
   ],
   "source": [
    "bagged = RandomForestRegressor(max_features=4,n_estimators = 1000,\n",
    "                                     random_state=1)\n",
    "bagged.fit(X_train,y_train)"
   ]
  },
  {
   "cell_type": "code",
   "execution_count": 505,
   "metadata": {},
   "outputs": [],
   "source": [
    "pred = bagged.predict(X_test)"
   ]
  },
  {
   "cell_type": "code",
   "execution_count": 506,
   "metadata": {},
   "outputs": [
    {
     "data": {
      "text/plain": [
       "5748.36943084"
      ]
     },
     "execution_count": 506,
     "metadata": {},
     "output_type": "execute_result"
    }
   ],
   "source": [
    "mean_squared_error(y_test,pred)"
   ]
  },
  {
   "cell_type": "code",
   "execution_count": 507,
   "metadata": {},
   "outputs": [
    {
     "data": {
      "text/plain": [
       "95.3"
      ]
     },
     "execution_count": 507,
     "metadata": {},
     "output_type": "execute_result"
    }
   ],
   "source": [
    "y_test.mean()"
   ]
  },
  {
   "cell_type": "code",
   "execution_count": 508,
   "metadata": {},
   "outputs": [
    {
     "data": {
      "text/plain": [
       "8394.950969529084"
      ]
     },
     "execution_count": 508,
     "metadata": {},
     "output_type": "execute_result"
    }
   ],
   "source": [
    "mean_squared_error(y_test,[y_train.mean()]*len(y_test)) # Number to Beat!"
   ]
  },
  {
   "cell_type": "code",
   "execution_count": null,
   "metadata": {},
   "outputs": [],
   "source": []
  },
  {
   "cell_type": "markdown",
   "metadata": {},
   "source": [
    "## Random Forest"
   ]
  },
  {
   "cell_type": "code",
   "execution_count": 487,
   "metadata": {},
   "outputs": [
    {
     "data": {
      "text/plain": [
       "RandomForestRegressor(bootstrap=True, criterion='mse', max_depth=None,\n",
       "                      max_features=15, max_leaf_nodes=None,\n",
       "                      min_impurity_decrease=0.0, min_impurity_split=None,\n",
       "                      min_samples_leaf=1, min_samples_split=2,\n",
       "                      min_weight_fraction_leaf=0.0, n_estimators=500,\n",
       "                      n_jobs=None, oob_score=False, random_state=1, verbose=0,\n",
       "                      warm_start=False)"
      ]
     },
     "execution_count": 487,
     "metadata": {},
     "output_type": "execute_result"
    }
   ],
   "source": [
    "random = RandomForestRegressor(max_features = 15,\n",
    "                                            n_estimators = 500,\n",
    "                                            random_state = 1)\n",
    "random.fit(X_train,y_train)"
   ]
  },
  {
   "cell_type": "code",
   "execution_count": 488,
   "metadata": {},
   "outputs": [
    {
     "data": {
      "text/plain": [
       "9474.02448307692"
      ]
     },
     "execution_count": 488,
     "metadata": {},
     "output_type": "execute_result"
    }
   ],
   "source": [
    "mean_squared_error(y_test,random.predict(X_test))"
   ]
  },
  {
   "cell_type": "code",
   "execution_count": 489,
   "metadata": {},
   "outputs": [
    {
     "data": {
      "text/html": [
       "<div>\n",
       "<style scoped>\n",
       "    .dataframe tbody tr th:only-of-type {\n",
       "        vertical-align: middle;\n",
       "    }\n",
       "\n",
       "    .dataframe tbody tr th {\n",
       "        vertical-align: top;\n",
       "    }\n",
       "\n",
       "    .dataframe thead th {\n",
       "        text-align: right;\n",
       "    }\n",
       "</style>\n",
       "<table border=\"1\" class=\"dataframe\">\n",
       "  <thead>\n",
       "    <tr style=\"text-align: right;\">\n",
       "      <th></th>\n",
       "      <th>Importance</th>\n",
       "    </tr>\n",
       "  </thead>\n",
       "  <tbody>\n",
       "    <tr>\n",
       "      <td>G-P Nodes</td>\n",
       "      <td>10.106285</td>\n",
       "    </tr>\n",
       "    <tr>\n",
       "      <td>12</td>\n",
       "      <td>9.073926</td>\n",
       "    </tr>\n",
       "    <tr>\n",
       "      <td>N-N Degree</td>\n",
       "      <td>7.066878</td>\n",
       "    </tr>\n",
       "    <tr>\n",
       "      <td>18</td>\n",
       "      <td>6.173660</td>\n",
       "    </tr>\n",
       "    <tr>\n",
       "      <td>N-N Nodes</td>\n",
       "      <td>5.028246</td>\n",
       "    </tr>\n",
       "    <tr>\n",
       "      <td>20</td>\n",
       "      <td>4.878444</td>\n",
       "    </tr>\n",
       "    <tr>\n",
       "      <td>7</td>\n",
       "      <td>4.658591</td>\n",
       "    </tr>\n",
       "    <tr>\n",
       "      <td>1</td>\n",
       "      <td>4.304347</td>\n",
       "    </tr>\n",
       "    <tr>\n",
       "      <td>G-N Degree</td>\n",
       "      <td>4.192208</td>\n",
       "    </tr>\n",
       "    <tr>\n",
       "      <td>G-N Nodes</td>\n",
       "      <td>4.012486</td>\n",
       "    </tr>\n",
       "    <tr>\n",
       "      <td>11</td>\n",
       "      <td>3.383108</td>\n",
       "    </tr>\n",
       "    <tr>\n",
       "      <td>B-N Nodes</td>\n",
       "      <td>2.834113</td>\n",
       "    </tr>\n",
       "    <tr>\n",
       "      <td>10</td>\n",
       "      <td>2.623138</td>\n",
       "    </tr>\n",
       "    <tr>\n",
       "      <td>16</td>\n",
       "      <td>2.450030</td>\n",
       "    </tr>\n",
       "    <tr>\n",
       "      <td>15</td>\n",
       "      <td>2.216506</td>\n",
       "    </tr>\n",
       "    <tr>\n",
       "      <td>4</td>\n",
       "      <td>1.762918</td>\n",
       "    </tr>\n",
       "    <tr>\n",
       "      <td>14</td>\n",
       "      <td>1.648373</td>\n",
       "    </tr>\n",
       "    <tr>\n",
       "      <td>G-P Degree</td>\n",
       "      <td>1.584978</td>\n",
       "    </tr>\n",
       "    <tr>\n",
       "      <td>B-I Degree</td>\n",
       "      <td>1.539430</td>\n",
       "    </tr>\n",
       "    <tr>\n",
       "      <td>8</td>\n",
       "      <td>1.535282</td>\n",
       "    </tr>\n",
       "    <tr>\n",
       "      <td>13</td>\n",
       "      <td>1.425216</td>\n",
       "    </tr>\n",
       "    <tr>\n",
       "      <td>N-P Nodes</td>\n",
       "      <td>1.268219</td>\n",
       "    </tr>\n",
       "    <tr>\n",
       "      <td>17</td>\n",
       "      <td>1.236612</td>\n",
       "    </tr>\n",
       "    <tr>\n",
       "      <td>B-I Nodes</td>\n",
       "      <td>1.194241</td>\n",
       "    </tr>\n",
       "    <tr>\n",
       "      <td>9</td>\n",
       "      <td>1.175682</td>\n",
       "    </tr>\n",
       "    <tr>\n",
       "      <td>B-P Nodes</td>\n",
       "      <td>1.174131</td>\n",
       "    </tr>\n",
       "    <tr>\n",
       "      <td>6</td>\n",
       "      <td>1.105945</td>\n",
       "    </tr>\n",
       "    <tr>\n",
       "      <td>5</td>\n",
       "      <td>1.054923</td>\n",
       "    </tr>\n",
       "    <tr>\n",
       "      <td>B-P Degree</td>\n",
       "      <td>1.049695</td>\n",
       "    </tr>\n",
       "    <tr>\n",
       "      <td>N-P Degree</td>\n",
       "      <td>1.047227</td>\n",
       "    </tr>\n",
       "    <tr>\n",
       "      <td>B-N Degree</td>\n",
       "      <td>0.935215</td>\n",
       "    </tr>\n",
       "    <tr>\n",
       "      <td>3</td>\n",
       "      <td>0.907572</td>\n",
       "    </tr>\n",
       "    <tr>\n",
       "      <td>N-I Degree</td>\n",
       "      <td>0.756411</td>\n",
       "    </tr>\n",
       "    <tr>\n",
       "      <td>19</td>\n",
       "      <td>0.716652</td>\n",
       "    </tr>\n",
       "    <tr>\n",
       "      <td>N-I Nodes</td>\n",
       "      <td>0.665024</td>\n",
       "    </tr>\n",
       "    <tr>\n",
       "      <td>G-I Degree</td>\n",
       "      <td>0.655482</td>\n",
       "    </tr>\n",
       "    <tr>\n",
       "      <td>2</td>\n",
       "      <td>0.589216</td>\n",
       "    </tr>\n",
       "    <tr>\n",
       "      <td>month_7</td>\n",
       "      <td>0.567643</td>\n",
       "    </tr>\n",
       "    <tr>\n",
       "      <td>G-I Nodes</td>\n",
       "      <td>0.487053</td>\n",
       "    </tr>\n",
       "    <tr>\n",
       "      <td>month_3</td>\n",
       "      <td>0.207876</td>\n",
       "    </tr>\n",
       "    <tr>\n",
       "      <td>month_5</td>\n",
       "      <td>0.199253</td>\n",
       "    </tr>\n",
       "    <tr>\n",
       "      <td>month_11</td>\n",
       "      <td>0.170031</td>\n",
       "    </tr>\n",
       "    <tr>\n",
       "      <td>month_8</td>\n",
       "      <td>0.087587</td>\n",
       "    </tr>\n",
       "    <tr>\n",
       "      <td>month_1</td>\n",
       "      <td>0.083325</td>\n",
       "    </tr>\n",
       "    <tr>\n",
       "      <td>month_10</td>\n",
       "      <td>0.073807</td>\n",
       "    </tr>\n",
       "    <tr>\n",
       "      <td>month_2</td>\n",
       "      <td>0.052612</td>\n",
       "    </tr>\n",
       "    <tr>\n",
       "      <td>month_12</td>\n",
       "      <td>0.030620</td>\n",
       "    </tr>\n",
       "    <tr>\n",
       "      <td>month_9</td>\n",
       "      <td>0.005362</td>\n",
       "    </tr>\n",
       "    <tr>\n",
       "      <td>month_4</td>\n",
       "      <td>0.003086</td>\n",
       "    </tr>\n",
       "    <tr>\n",
       "      <td>month_6</td>\n",
       "      <td>0.001336</td>\n",
       "    </tr>\n",
       "    <tr>\n",
       "      <td>Country_Code_SSD</td>\n",
       "      <td>0.000000</td>\n",
       "    </tr>\n",
       "  </tbody>\n",
       "</table>\n",
       "</div>"
      ],
      "text/plain": [
       "                  Importance\n",
       "G-P Nodes          10.106285\n",
       "12                  9.073926\n",
       "N-N Degree          7.066878\n",
       "18                  6.173660\n",
       "N-N Nodes           5.028246\n",
       "20                  4.878444\n",
       "7                   4.658591\n",
       "1                   4.304347\n",
       "G-N Degree          4.192208\n",
       "G-N Nodes           4.012486\n",
       "11                  3.383108\n",
       "B-N Nodes           2.834113\n",
       "10                  2.623138\n",
       "16                  2.450030\n",
       "15                  2.216506\n",
       "4                   1.762918\n",
       "14                  1.648373\n",
       "G-P Degree          1.584978\n",
       "B-I Degree          1.539430\n",
       "8                   1.535282\n",
       "13                  1.425216\n",
       "N-P Nodes           1.268219\n",
       "17                  1.236612\n",
       "B-I Nodes           1.194241\n",
       "9                   1.175682\n",
       "B-P Nodes           1.174131\n",
       "6                   1.105945\n",
       "5                   1.054923\n",
       "B-P Degree          1.049695\n",
       "N-P Degree          1.047227\n",
       "B-N Degree          0.935215\n",
       "3                   0.907572\n",
       "N-I Degree          0.756411\n",
       "19                  0.716652\n",
       "N-I Nodes           0.665024\n",
       "G-I Degree          0.655482\n",
       "2                   0.589216\n",
       "month_7             0.567643\n",
       "G-I Nodes           0.487053\n",
       "month_3             0.207876\n",
       "month_5             0.199253\n",
       "month_11            0.170031\n",
       "month_8             0.087587\n",
       "month_1             0.083325\n",
       "month_10            0.073807\n",
       "month_2             0.052612\n",
       "month_12            0.030620\n",
       "month_9             0.005362\n",
       "month_4             0.003086\n",
       "month_6             0.001336\n",
       "Country_Code_SSD    0.000000"
      ]
     },
     "execution_count": 489,
     "metadata": {},
     "output_type": "execute_result"
    }
   ],
   "source": [
    "Importance = pd.DataFrame({'Importance':random.feature_importances_*100},\n",
    "                         index = X.columns)\n",
    "Importance.sort_values(by='Importance', ascending=False)"
   ]
  },
  {
   "cell_type": "code",
   "execution_count": 421,
   "metadata": {},
   "outputs": [
    {
     "data": {
      "image/png": "[encoded data removed]",
      "text/plain": [
       "<Figure size 432x288 with 1 Axes>"
      ]
     },
     "metadata": {
      "needs_background": "light"
     },
     "output_type": "display_data"
    }
   ],
   "source": [
    "Importance.sort_values(by = 'Importance',axis = 0,ascending = True)\\\n",
    "                      .plot(kind = 'barh',color='r',)\n",
    "plt.xlabel('Variable Importance')\n",
    "plt.gca().legend_ = None\n",
    "plt.grid()"
   ]
  },
  {
   "cell_type": "markdown",
   "metadata": {},
   "source": [
    "## Round 2\n",
    "\n",
    "Adjust regressor evaluating with kfolds"
   ]
  },
  {
   "cell_type": "code",
   "execution_count": 422,
   "metadata": {},
   "outputs": [
    {
     "data": {
      "text/plain": [
       "5905.345235076922"
      ]
     },
     "execution_count": 422,
     "metadata": {},
     "output_type": "execute_result"
    }
   ],
   "source": [
    "random = RandomForestRegressor(max_features = 4,\n",
    "                                            n_estimators = 500,\n",
    "                                            random_state = 1)\n",
    "random.fit(X_train,y_train)\n",
    "\n",
    "mean_squared_error(y_test,random.predict(X_test))"
   ]
  },
  {
   "cell_type": "code",
   "execution_count": 423,
   "metadata": {},
   "outputs": [],
   "source": [
    "model = RandomForestRegressor(max_features = 6,\n",
    "                                            n_estimators = 500,\n",
    "                                            random_state = 1)"
   ]
  },
  {
   "cell_type": "code",
   "execution_count": 424,
   "metadata": {},
   "outputs": [],
   "source": [
    "result = cross_val_score(model,X,y,cv=kfold,scoring='neg_mean_squared_error')"
   ]
  },
  {
   "cell_type": "code",
   "execution_count": 425,
   "metadata": {},
   "outputs": [
    {
     "data": {
      "text/plain": [
       "-3353.73218872"
      ]
     },
     "execution_count": 425,
     "metadata": {},
     "output_type": "execute_result"
    }
   ],
   "source": [
    "result.mean()"
   ]
  },
  {
   "cell_type": "code",
   "execution_count": 426,
   "metadata": {},
   "outputs": [
    {
     "data": {
      "text/plain": [
       "57.911416739016154"
      ]
     },
     "execution_count": 426,
     "metadata": {},
     "output_type": "execute_result"
    }
   ],
   "source": [
    "(-result.mean()) ** (1/2)"
   ]
  },
  {
   "cell_type": "code",
   "execution_count": null,
   "metadata": {},
   "outputs": [],
   "source": []
  },
  {
   "cell_type": "markdown",
   "metadata": {},
   "source": [
    "## Ridge Regression"
   ]
  },
  {
   "cell_type": "code",
   "execution_count": 427,
   "metadata": {},
   "outputs": [],
   "source": [
    "from sklearn.linear_model import Ridge, Lasso, RidgeCV, LassoCV"
   ]
  },
  {
   "cell_type": "code",
   "execution_count": 428,
   "metadata": {},
   "outputs": [],
   "source": [
    "alphas = np.linspace(10,-2,100)"
   ]
  },
  {
   "cell_type": "code",
   "execution_count": 429,
   "metadata": {},
   "outputs": [],
   "source": [
    "alphas = 10**alphas"
   ]
  },
  {
   "cell_type": "code",
   "execution_count": 430,
   "metadata": {},
   "outputs": [],
   "source": [
    "model = Ridge(normalize = True)"
   ]
  },
  {
   "cell_type": "code",
   "execution_count": 431,
   "metadata": {},
   "outputs": [],
   "source": [
    "coefs = []"
   ]
  },
  {
   "cell_type": "code",
   "execution_count": 432,
   "metadata": {},
   "outputs": [],
   "source": [
    "for a in alphas:\n",
    "    model.set_params(alpha = a)\n",
    "    model.fit(X,y)\n",
    "    coefs.append(model.coef_)"
   ]
  },
  {
   "cell_type": "code",
   "execution_count": 433,
   "metadata": {},
   "outputs": [],
   "source": [
    "df = pd.DataFrame(coefs)"
   ]
  },
  {
   "cell_type": "code",
   "execution_count": 434,
   "metadata": {},
   "outputs": [],
   "source": [
    "df.columns = X.columns"
   ]
  },
  {
   "cell_type": "code",
   "execution_count": 435,
   "metadata": {},
   "outputs": [
    {
     "data": {
      "text/plain": [
       "51"
      ]
     },
     "execution_count": 435,
     "metadata": {},
     "output_type": "execute_result"
    }
   ],
   "source": [
    "len(X.columns)"
   ]
  },
  {
   "cell_type": "code",
   "execution_count": 436,
   "metadata": {},
   "outputs": [
    {
     "data": {
      "image/png": "[encoded data removed]",
      "text/plain": [
       "<Figure size 864x432 with 1 Axes>"
      ]
     },
     "metadata": {
      "needs_background": "light"
     },
     "output_type": "display_data"
    }
   ],
   "source": [
    "# Plot Coefficients vs Alphas\n",
    "plt.figure(figsize=(12,6))\n",
    "ax = plt.gca()\n",
    "\n",
    "for i in range(len(X.columns)):\n",
    "    aux = np.array(coefs)[:,i]\n",
    "    ax.plot(alphas,aux,label = X.columns.values[i])\n",
    "    ax.set_xscale('log')\n",
    "\n",
    "plt.legend(loc=4)\n",
    "plt.xlabel('alpha')\n",
    "plt.ylabel('coefficients')\n",
    "plt.grid()"
   ]
  },
  {
   "cell_type": "code",
   "execution_count": 437,
   "metadata": {},
   "outputs": [
    {
     "data": {
      "text/plain": [
       "Ridge(alpha=4, copy_X=True, fit_intercept=True, max_iter=None, normalize=True,\n",
       "      random_state=None, solver='auto', tol=0.001)"
      ]
     },
     "execution_count": 437,
     "metadata": {},
     "output_type": "execute_result"
    }
   ],
   "source": [
    "ridge2 = Ridge(alpha = 4, normalize = True)\n",
    "ridge2.fit(X_train,y_train)"
   ]
  },
  {
   "cell_type": "code",
   "execution_count": 438,
   "metadata": {},
   "outputs": [
    {
     "data": {
      "text/html": [
       "<div>\n",
       "<style scoped>\n",
       "    .dataframe tbody tr th:only-of-type {\n",
       "        vertical-align: middle;\n",
       "    }\n",
       "\n",
       "    .dataframe tbody tr th {\n",
       "        vertical-align: top;\n",
       "    }\n",
       "\n",
       "    .dataframe thead th {\n",
       "        text-align: right;\n",
       "    }\n",
       "</style>\n",
       "<table border=\"1\" class=\"dataframe\">\n",
       "  <thead>\n",
       "    <tr style=\"text-align: right;\">\n",
       "      <th></th>\n",
       "      <th>0</th>\n",
       "    </tr>\n",
       "  </thead>\n",
       "  <tbody>\n",
       "    <tr>\n",
       "      <td>G-P Nodes</td>\n",
       "      <td>0.114943</td>\n",
       "    </tr>\n",
       "    <tr>\n",
       "      <td>G-I Nodes</td>\n",
       "      <td>0.015738</td>\n",
       "    </tr>\n",
       "    <tr>\n",
       "      <td>G-N Nodes</td>\n",
       "      <td>-0.040073</td>\n",
       "    </tr>\n",
       "    <tr>\n",
       "      <td>N-P Nodes</td>\n",
       "      <td>-0.167585</td>\n",
       "    </tr>\n",
       "    <tr>\n",
       "      <td>N-I Nodes</td>\n",
       "      <td>0.057329</td>\n",
       "    </tr>\n",
       "    <tr>\n",
       "      <td>N-N Nodes</td>\n",
       "      <td>-0.027731</td>\n",
       "    </tr>\n",
       "    <tr>\n",
       "      <td>B-P Nodes</td>\n",
       "      <td>0.244918</td>\n",
       "    </tr>\n",
       "    <tr>\n",
       "      <td>B-I Nodes</td>\n",
       "      <td>0.149461</td>\n",
       "    </tr>\n",
       "    <tr>\n",
       "      <td>B-N Nodes</td>\n",
       "      <td>-0.042646</td>\n",
       "    </tr>\n",
       "    <tr>\n",
       "      <td>G-P Degree</td>\n",
       "      <td>-0.563958</td>\n",
       "    </tr>\n",
       "    <tr>\n",
       "      <td>G-I Degree</td>\n",
       "      <td>-0.025134</td>\n",
       "    </tr>\n",
       "    <tr>\n",
       "      <td>G-N Degree</td>\n",
       "      <td>-0.447148</td>\n",
       "    </tr>\n",
       "    <tr>\n",
       "      <td>N-P Degree</td>\n",
       "      <td>-0.302008</td>\n",
       "    </tr>\n",
       "    <tr>\n",
       "      <td>N-I Degree</td>\n",
       "      <td>-0.122986</td>\n",
       "    </tr>\n",
       "    <tr>\n",
       "      <td>N-N Degree</td>\n",
       "      <td>-0.001444</td>\n",
       "    </tr>\n",
       "    <tr>\n",
       "      <td>B-P Degree</td>\n",
       "      <td>-0.902239</td>\n",
       "    </tr>\n",
       "    <tr>\n",
       "      <td>B-I Degree</td>\n",
       "      <td>-0.061992</td>\n",
       "    </tr>\n",
       "    <tr>\n",
       "      <td>B-N Degree</td>\n",
       "      <td>-0.220037</td>\n",
       "    </tr>\n",
       "    <tr>\n",
       "      <td>1</td>\n",
       "      <td>-0.006466</td>\n",
       "    </tr>\n",
       "    <tr>\n",
       "      <td>2</td>\n",
       "      <td>-0.006766</td>\n",
       "    </tr>\n",
       "    <tr>\n",
       "      <td>3</td>\n",
       "      <td>0.000831</td>\n",
       "    </tr>\n",
       "    <tr>\n",
       "      <td>4</td>\n",
       "      <td>-0.000325</td>\n",
       "    </tr>\n",
       "    <tr>\n",
       "      <td>5</td>\n",
       "      <td>-0.004687</td>\n",
       "    </tr>\n",
       "    <tr>\n",
       "      <td>6</td>\n",
       "      <td>0.035959</td>\n",
       "    </tr>\n",
       "    <tr>\n",
       "      <td>7</td>\n",
       "      <td>0.033868</td>\n",
       "    </tr>\n",
       "    <tr>\n",
       "      <td>8</td>\n",
       "      <td>-0.007144</td>\n",
       "    </tr>\n",
       "    <tr>\n",
       "      <td>9</td>\n",
       "      <td>-0.001345</td>\n",
       "    </tr>\n",
       "    <tr>\n",
       "      <td>10</td>\n",
       "      <td>0.032219</td>\n",
       "    </tr>\n",
       "    <tr>\n",
       "      <td>11</td>\n",
       "      <td>0.000625</td>\n",
       "    </tr>\n",
       "    <tr>\n",
       "      <td>12</td>\n",
       "      <td>0.013717</td>\n",
       "    </tr>\n",
       "    <tr>\n",
       "      <td>13</td>\n",
       "      <td>-0.057310</td>\n",
       "    </tr>\n",
       "    <tr>\n",
       "      <td>14</td>\n",
       "      <td>0.007901</td>\n",
       "    </tr>\n",
       "    <tr>\n",
       "      <td>15</td>\n",
       "      <td>0.129560</td>\n",
       "    </tr>\n",
       "    <tr>\n",
       "      <td>16</td>\n",
       "      <td>-0.066619</td>\n",
       "    </tr>\n",
       "    <tr>\n",
       "      <td>17</td>\n",
       "      <td>0.000026</td>\n",
       "    </tr>\n",
       "    <tr>\n",
       "      <td>18</td>\n",
       "      <td>-0.014822</td>\n",
       "    </tr>\n",
       "    <tr>\n",
       "      <td>19</td>\n",
       "      <td>-0.002331</td>\n",
       "    </tr>\n",
       "    <tr>\n",
       "      <td>20</td>\n",
       "      <td>-0.079774</td>\n",
       "    </tr>\n",
       "    <tr>\n",
       "      <td>Country_Code_ETH</td>\n",
       "      <td>0.000000</td>\n",
       "    </tr>\n",
       "    <tr>\n",
       "      <td>month_1</td>\n",
       "      <td>-1.359931</td>\n",
       "    </tr>\n",
       "    <tr>\n",
       "      <td>month_2</td>\n",
       "      <td>-3.186004</td>\n",
       "    </tr>\n",
       "    <tr>\n",
       "      <td>month_3</td>\n",
       "      <td>2.795655</td>\n",
       "    </tr>\n",
       "    <tr>\n",
       "      <td>month_4</td>\n",
       "      <td>2.021973</td>\n",
       "    </tr>\n",
       "    <tr>\n",
       "      <td>month_5</td>\n",
       "      <td>-6.671294</td>\n",
       "    </tr>\n",
       "    <tr>\n",
       "      <td>month_6</td>\n",
       "      <td>-9.920352</td>\n",
       "    </tr>\n",
       "    <tr>\n",
       "      <td>month_7</td>\n",
       "      <td>3.076116</td>\n",
       "    </tr>\n",
       "    <tr>\n",
       "      <td>month_8</td>\n",
       "      <td>-3.038384</td>\n",
       "    </tr>\n",
       "    <tr>\n",
       "      <td>month_9</td>\n",
       "      <td>2.727422</td>\n",
       "    </tr>\n",
       "    <tr>\n",
       "      <td>month_10</td>\n",
       "      <td>0.916458</td>\n",
       "    </tr>\n",
       "    <tr>\n",
       "      <td>month_11</td>\n",
       "      <td>7.676598</td>\n",
       "    </tr>\n",
       "    <tr>\n",
       "      <td>month_12</td>\n",
       "      <td>0.321216</td>\n",
       "    </tr>\n",
       "  </tbody>\n",
       "</table>\n",
       "</div>"
      ],
      "text/plain": [
       "                         0\n",
       "G-P Nodes         0.114943\n",
       "G-I Nodes         0.015738\n",
       "G-N Nodes        -0.040073\n",
       "N-P Nodes        -0.167585\n",
       "N-I Nodes         0.057329\n",
       "N-N Nodes        -0.027731\n",
       "B-P Nodes         0.244918\n",
       "B-I Nodes         0.149461\n",
       "B-N Nodes        -0.042646\n",
       "G-P Degree       -0.563958\n",
       "G-I Degree       -0.025134\n",
       "G-N Degree       -0.447148\n",
       "N-P Degree       -0.302008\n",
       "N-I Degree       -0.122986\n",
       "N-N Degree       -0.001444\n",
       "B-P Degree       -0.902239\n",
       "B-I Degree       -0.061992\n",
       "B-N Degree       -0.220037\n",
       "1                -0.006466\n",
       "2                -0.006766\n",
       "3                 0.000831\n",
       "4                -0.000325\n",
       "5                -0.004687\n",
       "6                 0.035959\n",
       "7                 0.033868\n",
       "8                -0.007144\n",
       "9                -0.001345\n",
       "10                0.032219\n",
       "11                0.000625\n",
       "12                0.013717\n",
       "13               -0.057310\n",
       "14                0.007901\n",
       "15                0.129560\n",
       "16               -0.066619\n",
       "17                0.000026\n",
       "18               -0.014822\n",
       "19               -0.002331\n",
       "20               -0.079774\n",
       "Country_Code_ETH  0.000000\n",
       "month_1          -1.359931\n",
       "month_2          -3.186004\n",
       "month_3           2.795655\n",
       "month_4           2.021973\n",
       "month_5          -6.671294\n",
       "month_6          -9.920352\n",
       "month_7           3.076116\n",
       "month_8          -3.038384\n",
       "month_9           2.727422\n",
       "month_10          0.916458\n",
       "month_11          7.676598\n",
       "month_12          0.321216"
      ]
     },
     "execution_count": 438,
     "metadata": {},
     "output_type": "execute_result"
    }
   ],
   "source": [
    "pd.DataFrame(ridge2.coef_,index = X.columns)"
   ]
  },
  {
   "cell_type": "code",
   "execution_count": 439,
   "metadata": {},
   "outputs": [
    {
     "data": {
      "text/plain": [
       "RidgeCV(alphas=array([1.00000000e+10, 7.56463328e+09, 5.72236766e+09, 4.32876128e+09,\n",
       "       3.27454916e+09, 2.47707636e+09, 1.87381742e+09, 1.41747416e+09,\n",
       "       1.07226722e+09, 8.11130831e+08, 6.13590727e+08, 4.64158883e+08,\n",
       "       3.51119173e+08, 2.65608778e+08, 2.00923300e+08, 1.51991108e+08,\n",
       "       1.14975700e+08, 8.69749003e+07, 6.57933225e+07, 4.97702356e+07,\n",
       "       3.76493581e+07, 2.84803587e+0...\n",
       "       6.57933225e-01, 4.97702356e-01, 3.76493581e-01, 2.84803587e-01,\n",
       "       2.15443469e-01, 1.62975083e-01, 1.23284674e-01, 9.32603347e-02,\n",
       "       7.05480231e-02, 5.33669923e-02, 4.03701726e-02, 3.05385551e-02,\n",
       "       2.31012970e-02, 1.74752840e-02, 1.32194115e-02, 1.00000000e-02]),\n",
       "        cv=None, fit_intercept=True, gcv_mode=None, normalize=True,\n",
       "        scoring='neg_mean_squared_error', store_cv_values=False)"
      ]
     },
     "execution_count": 439,
     "metadata": {},
     "output_type": "execute_result"
    }
   ],
   "source": [
    "ridgecv = RidgeCV(alphas = alphas, scoring = 'neg_mean_squared_error',\n",
    "                 normalize = True)\n",
    "ridgecv.fit(X_train, y_train)"
   ]
  },
  {
   "cell_type": "code",
   "execution_count": 440,
   "metadata": {},
   "outputs": [
    {
     "data": {
      "text/plain": [
       "10000000000.0"
      ]
     },
     "execution_count": 440,
     "metadata": {},
     "output_type": "execute_result"
    }
   ],
   "source": [
    "ridgecv.alpha_"
   ]
  },
  {
   "cell_type": "code",
   "execution_count": 441,
   "metadata": {},
   "outputs": [
    {
     "data": {
      "text/plain": [
       "5656.259517275259"
      ]
     },
     "execution_count": 441,
     "metadata": {},
     "output_type": "execute_result"
    }
   ],
   "source": [
    "ridge2 = Ridge(alpha = ridgecv.alpha_, normalize=True)\n",
    "ridge2.fit(X_train,y_train)\n",
    "mean_squared_error(y_test,ridge2.predict(X_test))"
   ]
  },
  {
   "cell_type": "markdown",
   "metadata": {},
   "source": [
    "## Lasso Regression"
   ]
  },
  {
   "cell_type": "code",
   "execution_count": 442,
   "metadata": {},
   "outputs": [
    {
     "data": {
      "text/plain": [
       "LassoCV(alphas=array([1.00000000e+10, 7.56463328e+09, 5.72236766e+09, 4.32876128e+09,\n",
       "       3.27454916e+09, 2.47707636e+09, 1.87381742e+09, 1.41747416e+09,\n",
       "       1.07226722e+09, 8.11130831e+08, 6.13590727e+08, 4.64158883e+08,\n",
       "       3.51119173e+08, 2.65608778e+08, 2.00923300e+08, 1.51991108e+08,\n",
       "       1.14975700e+08, 8.69749003e+07, 6.57933225e+07, 4.97702356e+07,\n",
       "       3.76493581e+07, 2.84803587e+0...\n",
       "       2.15443469e-01, 1.62975083e-01, 1.23284674e-01, 9.32603347e-02,\n",
       "       7.05480231e-02, 5.33669923e-02, 4.03701726e-02, 3.05385551e-02,\n",
       "       2.31012970e-02, 1.74752840e-02, 1.32194115e-02, 1.00000000e-02]),\n",
       "        copy_X=True, cv=10, eps=0.001, fit_intercept=True, max_iter=10000,\n",
       "        n_alphas=100, n_jobs=None, normalize=True, positive=False,\n",
       "        precompute='auto', random_state=None, selection='cyclic', tol=0.0001,\n",
       "        verbose=False)"
      ]
     },
     "execution_count": 442,
     "metadata": {},
     "output_type": "execute_result"
    }
   ],
   "source": [
    "lassocv = LassoCV(alphas=alphas,cv=10,max_iter=10000,normalize=True)\n",
    "lassocv.fit(X_train,y_train)"
   ]
  },
  {
   "cell_type": "code",
   "execution_count": 443,
   "metadata": {},
   "outputs": [
    {
     "data": {
      "text/plain": [
       "Lasso(alpha=10000000000.0, copy_X=True, fit_intercept=True, max_iter=10000,\n",
       "      normalize=True, positive=False, precompute=False, random_state=None,\n",
       "      selection='cyclic', tol=0.0001, warm_start=False)"
      ]
     },
     "execution_count": 443,
     "metadata": {},
     "output_type": "execute_result"
    }
   ],
   "source": [
    "lasso_model = Lasso(max_iter = 10000, normalize = True)\n",
    "lasso_model.set_params(alpha = lassocv.alpha_)\n",
    "lasso_model.fit(X_train,y_train)"
   ]
  },
  {
   "cell_type": "code",
   "execution_count": 444,
   "metadata": {},
   "outputs": [
    {
     "data": {
      "text/plain": [
       "5656.259517268447"
      ]
     },
     "execution_count": 444,
     "metadata": {},
     "output_type": "execute_result"
    }
   ],
   "source": [
    "mean_squared_error(y_test,lasso_model.predict(X_test))"
   ]
  },
  {
   "cell_type": "code",
   "execution_count": null,
   "metadata": {},
   "outputs": [],
   "source": []
  },
  {
   "cell_type": "code",
   "execution_count": null,
   "metadata": {},
   "outputs": [],
   "source": []
  },
  {
   "cell_type": "code",
   "execution_count": 445,
   "metadata": {},
   "outputs": [
    {
     "name": "stderr",
     "output_type": "stream",
     "text": [
      "C:\\Users\\ssq10\\Anaconda3\\lib\\site-packages\\sklearn\\model_selection\\_split.py:1978: FutureWarning: The default value of cv will change from 3 to 5 in version 0.22. Specify it explicitly to silence this warning.\n",
      "  warnings.warn(CV_WARNING, FutureWarning)\n",
      "C:\\Users\\ssq10\\Anaconda3\\lib\\site-packages\\sklearn\\model_selection\\_search.py:814: DeprecationWarning: The default of the `iid` parameter will change from True to False in version 0.22 and will be removed in 0.24. This will change numeric results when test-set sizes are unequal.\n",
      "  DeprecationWarning)\n"
     ]
    },
    {
     "data": {
      "text/plain": [
       "RandomForestRegressor(bootstrap=True, criterion='mse', max_depth=2,\n",
       "                      max_features='auto', max_leaf_nodes=None,\n",
       "                      min_impurity_decrease=0.0, min_impurity_split=None,\n",
       "                      min_samples_leaf=5, min_samples_split=5,\n",
       "                      min_weight_fraction_leaf=0.0, n_estimators=4, n_jobs=None,\n",
       "                      oob_score=False, random_state=None, verbose=0,\n",
       "                      warm_start=False)"
      ]
     },
     "execution_count": 445,
     "metadata": {},
     "output_type": "execute_result"
    }
   ],
   "source": [
    "from sklearn.metrics import make_scorer\n",
    "from sklearn.model_selection import GridSearchCV\n",
    "\n",
    "# Choose the type of classifier. \n",
    "clf = RandomForestRegressor()\n",
    "\n",
    "# Choose some parameter combinations to try\n",
    "parameters = {'n_estimators': [4, 6, 9], \n",
    "              'max_features': ['log2', 'sqrt','auto'],\n",
    "              'max_depth': [2, 3, 5, 10], \n",
    "              'min_samples_split': [2, 3, 5],\n",
    "              'min_samples_leaf': [1,5,8]\n",
    "             }\n",
    "\n",
    "# Type of scoring used to compare parameter combinations\n",
    "acc_scorer = make_scorer(mean_squared_error)\n",
    "\n",
    "# Run the grid search\n",
    "grid_obj = GridSearchCV(clf, parameters, scoring=acc_scorer)\n",
    "grid_obj = grid_obj.fit(X_train, y_train)\n",
    "\n",
    "# Set the clf to the best combination of parameters\n",
    "m3 = grid_obj.best_estimator_\n",
    "\n",
    "# Fit the best algorithm to the data. \n",
    "m3.fit(X_train, y_train)"
   ]
  },
  {
   "cell_type": "code",
   "execution_count": 350,
   "metadata": {},
   "outputs": [
    {
     "data": {
      "text/plain": [
       "8993.184092077665"
      ]
     },
     "execution_count": 350,
     "metadata": {},
     "output_type": "execute_result"
    }
   ],
   "source": [
    "mean_squared_error(y_test,m3.predict(X_test))"
   ]
  },
  {
   "cell_type": "code",
   "execution_count": null,
   "metadata": {},
   "outputs": [],
   "source": []
  },
  {
   "cell_type": "code",
   "execution_count": null,
   "metadata": {},
   "outputs": [],
   "source": []
  },
  {
   "cell_type": "code",
   "execution_count": null,
   "metadata": {},
   "outputs": [],
   "source": []
  },
  {
   "cell_type": "code",
   "execution_count": null,
   "metadata": {},
   "outputs": [],
   "source": []
  }
 ],
 "metadata": {
  "kernelspec": {
   "display_name": "Python 3",
   "language": "python",
   "name": "python3"
  },
  "language_info": {
   "codemirror_mode": {
    "name": "ipython",
    "version": 3
   },
   "file_extension": ".py",
   "mimetype": "text/x-python",
   "name": "python",
   "nbconvert_exporter": "python",
   "pygments_lexer": "ipython3",
   "version": "3.7.4"
  }
 },
 "nbformat": 4,
 "nbformat_minor": 2
}
