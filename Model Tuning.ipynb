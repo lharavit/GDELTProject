{
 "cells": [
  {
   "cell_type": "code",
   "execution_count": 54,
   "metadata": {},
   "outputs": [],
   "source": [
    "import pandas as pd\n",
    "import numpy as np\n",
    "import matplotlib.pyplot as plt"
   ]
  },
  {
   "cell_type": "code",
   "execution_count": 59,
   "metadata": {},
   "outputs": [],
   "source": [
    "from sklearn.model_selection import KFold, train_test_split\n",
    "from sklearn.model_selection import cross_val_score\n",
    "from sklearn.preprocessing import MinMaxScaler\n",
    "from sklearn.model_selection import GridSearchCV\n",
    "from sklearn.pipeline import Pipeline"
   ]
  },
  {
   "cell_type": "code",
   "execution_count": 60,
   "metadata": {},
   "outputs": [],
   "source": [
    "from sklearn.linear_model import LinearRegression, BayesianRidge\n",
    "from sklearn.linear_model import Ridge, RidgeCV\n",
    "from sklearn.linear_model import Lasso, LassoCV\n",
    "from sklearn.tree import DecisionTreeRegressor\n",
    "from sklearn.svm import SVR\n",
    "from sklearn.ensemble import RandomForestRegressor, AdaBoostRegressor\n",
    "from xgboost import XGBRegressor"
   ]
  },
  {
   "cell_type": "code",
   "execution_count": 61,
   "metadata": {},
   "outputs": [
    {
     "name": "stderr",
     "output_type": "stream",
     "text": [
      "C:\\Users\\ssq10\\Anaconda3\\lib\\site-packages\\ipykernel_launcher.py:7: SettingWithCopyWarning: \n",
      "A value is trying to be set on a copy of a slice from a DataFrame\n",
      "\n",
      "See the caveats in the documentation: http://pandas.pydata.org/pandas-docs/stable/user_guide/indexing.html#returning-a-view-versus-a-copy\n",
      "  import sys\n",
      "C:\\Users\\ssq10\\Anaconda3\\lib\\site-packages\\ipykernel_launcher.py:8: SettingWithCopyWarning: \n",
      "A value is trying to be set on a copy of a slice from a DataFrame\n",
      "\n",
      "See the caveats in the documentation: http://pandas.pydata.org/pandas-docs/stable/user_guide/indexing.html#returning-a-view-versus-a-copy\n",
      "  \n",
      "C:\\Users\\ssq10\\Anaconda3\\lib\\site-packages\\ipykernel_launcher.py:9: SettingWithCopyWarning: \n",
      "A value is trying to be set on a copy of a slice from a DataFrame\n",
      "\n",
      "See the caveats in the documentation: http://pandas.pydata.org/pandas-docs/stable/user_guide/indexing.html#returning-a-view-versus-a-copy\n",
      "  if __name__ == '__main__':\n"
     ]
    }
   ],
   "source": [
    "df = pd.read_csv('new_data.csv')\n",
    "df2 = df.drop(columns = ['Year/Month', 'Unnamed: 0'])\n",
    "df3 = pd.get_dummies(df2, columns = ['Country_Code', 'month'])\n",
    "df3['lag_fatal_1'] = df3['fatalities'].shift(4) # Add three month lag - Found in Tuning Notebook\n",
    "df3['lag_fatal_2'] = df3['fatalities'].shift(8) # Add three month lag - Found in Tuning Notebook\n",
    "df3['lag_fatal_3'] = df3['fatalities'].shift(12) # Add three month lag - Found in Tuning Notebook\n",
    "df3.lag_fatal_1[0:4] = [68,0,15,47] # Add missing values (33,0,97,172,52,0,6,73,) <-- Add to front for more months\n",
    "df3.lag_fatal_2[0:8] = [52,0,6,73,68,0,15,47]\n",
    "df3.lag_fatal_3[0:12] = [33,0,97,172,52,0,6,73,68,0,15,47]\n",
    "\n",
    "X = df3.drop(columns = 'fatalities')\n",
    "y = df3.fatalities\n",
    "X_train, X_test, y_train, y_test = train_test_split(X,y,test_size=.2, random_state=42)\n",
    "#X_train = X[:-36]\n",
    "#X_test = X[-36:-4]\n",
    "#y_train = y[:-36]\n",
    "#y_test = y[-36:-4]\n",
    "\n",
    "X_pred = X[-4:]\n",
    "y_pred = y[-4:]\n",
    "X = X[:-4]\n",
    "y = y[:-4]"
   ]
  },
  {
   "cell_type": "code",
   "execution_count": 7,
   "metadata": {},
   "outputs": [],
   "source": [
    "pipe_models = [('scaler', MinMaxScaler()), ('LR', LinearRegression()),\n",
    "              ('Rdg', Ridge()),('Lasso',Lasso()),\n",
    "              ('Tree', DecisionTreeRegressor()),('SVR',SVR(kernel='rbf')),\n",
    "              ('NB', BayesianRidge()),('RF', RandomForestRegressor()),\n",
    "              ('Ada', AdaBoostRegressor),('XGB', XGBRegressor())]"
   ]
  },
  {
   "cell_type": "code",
   "execution_count": 68,
   "metadata": {},
   "outputs": [],
   "source": [
    "param_grid = {\n",
    "              'RF__n_estimators': [60,70,80,90,100],\n",
    "              'RF__max_features': [16],\n",
    "              'RF__max_depth': [6]\n",
    "}"
   ]
  },
  {
   "cell_type": "code",
   "execution_count": 69,
   "metadata": {},
   "outputs": [
    {
     "data": {
      "text/plain": [
       "GridSearchCV(cv=5, error_score='raise-deprecating',\n",
       "             estimator=Pipeline(memory=None,\n",
       "                                steps=[('scaler',\n",
       "                                        MinMaxScaler(copy=True,\n",
       "                                                     feature_range=(0, 1))),\n",
       "                                       ('RF',\n",
       "                                        RandomForestRegressor(bootstrap=True,\n",
       "                                                              criterion='mse',\n",
       "                                                              max_depth=None,\n",
       "                                                              max_features='auto',\n",
       "                                                              max_leaf_nodes=None,\n",
       "                                                              min_impurity_decrease=0.0,\n",
       "                                                              min_impurity_split=None,\n",
       "                                                              min_samples_leaf=1,\n",
       "                                                              min_samples_split=2,\n",
       "                                                              min_weight_fraction_leaf=0.0,\n",
       "                                                              n_estimators='warn',\n",
       "                                                              n_jobs=None,\n",
       "                                                              oob_score=False,\n",
       "                                                              random_state=None,\n",
       "                                                              verbose=0,\n",
       "                                                              warm_start=False))],\n",
       "                                verbose=False),\n",
       "             iid=False, n_jobs=None,\n",
       "             param_grid={'RF__max_depth': [6], 'RF__max_features': [16],\n",
       "                         'RF__n_estimators': [60, 70, 80, 90, 100]},\n",
       "             pre_dispatch='2*n_jobs', refit=True, return_train_score=False,\n",
       "             scoring=None, verbose=0)"
      ]
     },
     "execution_count": 69,
     "metadata": {},
     "output_type": "execute_result"
    }
   ],
   "source": [
    "pipe = Pipeline([('scaler', MinMaxScaler()), ('RF', RandomForestRegressor())\n",
    "                ])\n",
    "grid = GridSearchCV(pipe,param_grid=param_grid, cv=5, iid=False)\n",
    "grid.fit(X,y)"
   ]
  },
  {
   "cell_type": "code",
   "execution_count": 70,
   "metadata": {},
   "outputs": [
    {
     "data": {
      "text/plain": [
       "{'RF__max_depth': 6, 'RF__max_features': 16, 'RF__n_estimators': 80}"
      ]
     },
     "execution_count": 70,
     "metadata": {},
     "output_type": "execute_result"
    }
   ],
   "source": [
    "grid.best_params_"
   ]
  },
  {
   "cell_type": "code",
   "execution_count": null,
   "metadata": {},
   "outputs": [],
   "source": [
    "'SVR__C':[.1,1,10,20],\n",
    "             'SVR__gamma':[.1,1,10,20],\n",
    "             'Rdg__alpha':10**np.linspace(10,-2,100),\n",
    "             'Lasso__alpha':10**np.linspace(10,-2,100),\n",
    "             'Tree__max_features': [2,4,6],\n",
    "             'Tree__max_depth': [5, 7, 10, 15],\n",
    "             'Ada__n_estimators': [50,100,200],\n",
    "             'Ada__learning_rate': [.1,.5,1,5],\n",
    "             'XGB__n_estimators': [50,100,200],\n",
    "             'XGB__learning_rate': [.1,.5,1,5],\n",
    "             'XGB__max_depth': [2, 3, 5, 10],\n",
    "             'XGB__early_stopping_rounds': [10,30,50,100]"
   ]
  },
  {
   "cell_type": "code",
   "execution_count": null,
   "metadata": {},
   "outputs": [],
   "source": [
    "RandomForestRegressor(n_estimators = 135,max_features = 16, max_depth = 6)\n",
    "AdaBoostRegressor(n_estimators=100, learning_rate=.05)\n",
    "XGBRegressor(n_estimators=30, learning_rate=.06)\n",
    "Ridge(alpha=24.77)\n",
    "Lasso(alpha=8.11)\n",
    "SVR(kernel='rbf',gamma=.09)\n",
    "DecisionTreeRegressor(max_depth=5,max_features=4)"
   ]
  },
  {
   "cell_type": "code",
   "execution_count": null,
   "metadata": {},
   "outputs": [],
   "source": []
  }
 ],
 "metadata": {
  "kernelspec": {
   "display_name": "Python 3",
   "language": "python",
   "name": "python3"
  },
  "language_info": {
   "codemirror_mode": {
    "name": "ipython",
    "version": 3
   },
   "file_extension": ".py",
   "mimetype": "text/x-python",
   "name": "python",
   "nbconvert_exporter": "python",
   "pygments_lexer": "ipython3",
   "version": "3.7.4"
  }
 },
 "nbformat": 4,
 "nbformat_minor": 2
}
